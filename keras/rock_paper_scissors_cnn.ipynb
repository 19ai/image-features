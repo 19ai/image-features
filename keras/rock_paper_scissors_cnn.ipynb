{
 "cells": [
  {
   "cell_type": "markdown",
   "metadata": {
    "colab_type": "text",
    "id": "0X16cagQE-Y-"
   },
   "source": [
    "# CNN for rock-paper-scissors with Keras/TensorFlow\n",
    "\n",
    "Date: February 24, 2019\n",
    "\n",
    "Classification:\n",
    "- rock\n",
    "- paper\n",
    "- scissors"
   ]
  },
  {
   "cell_type": "markdown",
   "metadata": {
    "colab_type": "text",
    "id": "WwQ-dEltkl5Q"
   },
   "source": [
    "## Preparing data set for CNN"
   ]
  },
  {
   "cell_type": "code",
   "execution_count": 34,
   "metadata": {
    "colab": {
     "base_uri": "https://localhost:8080/",
     "height": 34
    },
    "colab_type": "code",
    "id": "VEJyQsGpV3ug",
    "outputId": "3929aa39-3383-4791-e065-3622e6781181"
   },
   "outputs": [],
   "source": [
    "DATA_FOLDER = '../python/data/'\n",
    "\n",
    "FILES = 132\n",
    "TRAINING_FILES = 88\n",
    "TEST_FILES = FILES - TRAINING_FILES"
   ]
  },
  {
   "cell_type": "code",
   "execution_count": 35,
   "metadata": {
    "colab": {},
    "colab_type": "code",
    "id": "JTNdoPBFWGky"
   },
   "outputs": [],
   "source": [
    "%matplotlib inline\n",
    "\n",
    "import matplotlib.pyplot as plt\n",
    "import numpy as np\n",
    "import time\n",
    "import random\n",
    "import os\n",
    "import sklearn.preprocessing as pp"
   ]
  },
  {
   "cell_type": "code",
   "execution_count": 36,
   "metadata": {},
   "outputs": [
    {
     "name": "stdout",
     "output_type": "stream",
     "text": [
      "0: paper\n",
      "1: rock\n",
      "2: scissors\n"
     ]
    }
   ],
   "source": [
    "import glob\n",
    "\n",
    "data_files = glob.glob(DATA_FOLDER+'*.csv')\n",
    "class_labels = []\n",
    "\n",
    "for file in data_files:\n",
    "    label = file.split('-')[0].replace('\\\\', '/').split('/')[-1]\n",
    "    if label not in class_labels:\n",
    "        class_labels.append(label)\n",
    "\n",
    "data_set = {}\n",
    "\n",
    "class_number = 0\n",
    "\n",
    "for label in class_labels:\n",
    "    files = glob.glob(DATA_FOLDER+'{}-*.csv'.format(label))\n",
    "    random.shuffle(files)\n",
    "    data_set[label] = (files[:TRAINING_FILES], files[TRAINING_FILES:FILES], class_number)\n",
    "    class_number += 1\n",
    "\n",
    "training_set = []\n",
    "test_set = []\n",
    "\n",
    "for k, v in data_set.items():\n",
    "    files = v[0]\n",
    "    class_number = v[2]\n",
    "    for file in files:\n",
    "        with open(file) as f:\n",
    "            data = np.array(f.read().split(',')).astype(float)\n",
    "            training_set.append((pp.minmax_scale(data), class_number))\n",
    "    files = v[1]\n",
    "    for file in files:\n",
    "        with open(file) as f:\n",
    "            data = np.array(f.read().split(',')).astype(float)\n",
    "            test_set.append((pp.minmax_scale(data), class_number))\n",
    "random.shuffle(training_set)\n",
    "random.shuffle(test_set)\n",
    "\n",
    "class_labels = [None for _ in range(len(data_set))]\n",
    "\n",
    "# Class number and class labels\n",
    "for k,v in data_set.items():\n",
    "    print('{}: {}'.format(v[2],k))\n",
    "    class_labels[v[2]] = k\n",
    "    \n",
    "import yaml\n",
    "with open(DATA_FOLDER+'class_labels.yaml', 'w') as f:\n",
    "    yaml.dump(class_labels, f)"
   ]
  },
  {
   "cell_type": "code",
   "execution_count": 37,
   "metadata": {
    "colab": {},
    "colab_type": "code",
    "id": "28tIKkNyW3cO"
   },
   "outputs": [
    {
     "data": {
      "text/plain": [
       "<matplotlib.image.AxesImage at 0x23cda489c88>"
      ]
     },
     "execution_count": 37,
     "metadata": {},
     "output_type": "execute_result"
    },
    {
     "data": {
      "image/png": "[encoded data removed]",
      "text/plain": [
       "<matplotlib.figure.Figure at 0x23cda4aa240>"
      ]
     },
     "metadata": {},
     "output_type": "display_data"
    }
   ],
   "source": [
    "train_data, train_labels = [], []\n",
    "test_data, test_labels = [], []\n",
    "for img, label in training_set:\n",
    "    train_data.append(img)\n",
    "    train_labels.append(label)\n",
    "for img, label in test_set:\n",
    "    test_data.append(img)\n",
    "    test_labels.append(label)\n",
    "train_data = np.array(train_data).reshape((TRAINING_FILES*len(class_labels), 32, 32, 3))\n",
    "train_labels = np.array(train_labels, dtype='uint8')\n",
    "test_data = np.array(test_data).reshape((TEST_FILES*len(class_labels), 32, 32, 3))\n",
    "test_lables = np.array(test_labels, dtype='uint8')\n",
    "#train_data.shape\n",
    "\n",
    "from keras.utils import to_categorical\n",
    "\n",
    "train_labels=to_categorical(train_labels)\n",
    "test_labels=to_categorical(test_labels)\n",
    "\n",
    "plt.imshow(train_data[12,:,:,:])\n",
    "#train_data[12,:,:,0]"
   ]
  },
  {
   "cell_type": "markdown",
   "metadata": {
    "colab_type": "text",
    "id": "VfUmgxxVk6uM"
   },
   "source": [
    "### CNN model"
   ]
  },
  {
   "cell_type": "code",
   "execution_count": 71,
   "metadata": {
    "colab": {
     "base_uri": "https://localhost:8080/",
     "height": 509
    },
    "colab_type": "code",
    "id": "B2Xg6tGLdMKP",
    "outputId": "ae3daa32-9dbf-4d8b-9a11-7f596dd2e4a6"
   },
   "outputs": [
    {
     "name": "stdout",
     "output_type": "stream",
     "text": [
      "_________________________________________________________________\n",
      "Layer (type)                 Output Shape              Param #   \n",
      "=================================================================\n",
      "conv2d_13 (Conv2D)           (None, 32, 32, 8)         224       \n",
      "_________________________________________________________________\n",
      "max_pooling2d_13 (MaxPooling (None, 16, 16, 8)         0         \n",
      "_________________________________________________________________\n",
      "conv2d_14 (Conv2D)           (None, 16, 16, 16)        1168      \n",
      "_________________________________________________________________\n",
      "max_pooling2d_14 (MaxPooling (None, 8, 8, 16)          0         \n",
      "_________________________________________________________________\n",
      "conv2d_15 (Conv2D)           (None, 8, 8, 32)          4640      \n",
      "_________________________________________________________________\n",
      "max_pooling2d_15 (MaxPooling (None, 4, 4, 32)          0         \n",
      "_________________________________________________________________\n",
      "flatten_5 (Flatten)          (None, 512)               0         \n",
      "_________________________________________________________________\n",
      "dropout_5 (Dropout)          (None, 512)               0         \n",
      "_________________________________________________________________\n",
      "dense_9 (Dense)              (None, 128)               65664     \n",
      "_________________________________________________________________\n",
      "dense_10 (Dense)             (None, 3)                 387       \n",
      "=================================================================\n",
      "Total params: 72,083\n",
      "Trainable params: 72,083\n",
      "Non-trainable params: 0\n",
      "_________________________________________________________________\n"
     ]
    }
   ],
   "source": [
    "from keras import layers\n",
    "from keras import models\n",
    "\n",
    "model = models.Sequential()\n",
    "\n",
    "model.add(layers.Conv2D(8, (3, 3), padding='same', activation='relu', input_shape=(32, 32, 3)))\n",
    "model.add(layers.MaxPooling2D((2,2)))\n",
    "\n",
    "model.add(layers.Conv2D(16, (3, 3), padding='same', activation='relu'))\n",
    "model.add(layers.MaxPooling2D((2,2)))\n",
    "\n",
    "model.add(layers.Conv2D(32, (3, 3), padding='same', activation='relu'))\n",
    "model.add(layers.MaxPooling2D((2,2)))\n",
    "\n",
    "model.add(layers.Flatten())\n",
    "model.add(layers.Dropout(0.5))\n",
    "model.add(layers.Dense(128, activation='relu'))\n",
    "model.add(layers.Dense(len(class_labels), activation='softmax'))\n",
    "\n",
    "model.summary()"
   ]
  },
  {
   "cell_type": "code",
   "execution_count": 72,
   "metadata": {
    "colab": {},
    "colab_type": "code",
    "id": "nRr1L_4ogL6i"
   },
   "outputs": [],
   "source": [
    "model.compile(optimizer='rmsprop', loss='categorical_crossentropy', metrics=['accuracy'])"
   ]
  },
  {
   "cell_type": "code",
   "execution_count": 73,
   "metadata": {},
   "outputs": [
    {
     "data": {
      "image/svg+xml": [
       "<svg height=\"775pt\" viewBox=\"0.00 0.00 223.00 775.00\" width=\"223pt\" xmlns=\"http://www.w3.org/2000/svg\" xmlns:xlink=\"http://www.w3.org/1999/xlink\">\n",
       "<g class=\"graph\" id=\"graph0\" transform=\"scale(1 1) rotate(0) translate(4 771)\">\n",
       "<title>G</title>\n",
       "<polygon fill=\"white\" points=\"-4,4 -4,-771 219,-771 219,4 -4,4\" stroke=\"none\"/>\n",
       "<!-- 2460506813216 -->\n",
       "<g class=\"node\" id=\"node1\"><title>2460506813216</title>\n",
       "<polygon fill=\"none\" points=\"40.5,-657.5 40.5,-693.5 174.5,-693.5 174.5,-657.5 40.5,-657.5\" stroke=\"black\"/>\n",
       "<text font-family=\"Times New Roman,serif\" font-size=\"14.00\" text-anchor=\"middle\" x=\"107.5\" y=\"-671.8\">conv2d_13: Conv2D</text>\n",
       "</g>\n",
       "<!-- 2460506814672 -->\n",
       "<g class=\"node\" id=\"node2\"><title>2460506814672</title>\n",
       "<polygon fill=\"none\" points=\"0,-584.5 0,-620.5 215,-620.5 215,-584.5 0,-584.5\" stroke=\"black\"/>\n",
       "<text font-family=\"Times New Roman,serif\" font-size=\"14.00\" text-anchor=\"middle\" x=\"107.5\" y=\"-598.8\">max_pooling2d_13: MaxPooling2D</text>\n",
       "</g>\n",
       "<!-- 2460506813216&#45;&gt;2460506814672 -->\n",
       "<g class=\"edge\" id=\"edge2\"><title>2460506813216-&gt;2460506814672</title>\n",
       "<path d=\"M107.5,-657.313C107.5,-649.289 107.5,-639.547 107.5,-630.569\" fill=\"none\" stroke=\"black\"/>\n",
       "<polygon fill=\"black\" points=\"111,-630.529 107.5,-620.529 104,-630.529 111,-630.529\" stroke=\"black\"/>\n",
       "</g>\n",
       "<!-- 2460542787088 -->\n",
       "<g class=\"node\" id=\"node3\"><title>2460542787088</title>\n",
       "<polygon fill=\"none\" points=\"40.5,-511.5 40.5,-547.5 174.5,-547.5 174.5,-511.5 40.5,-511.5\" stroke=\"black\"/>\n",
       "<text font-family=\"Times New Roman,serif\" font-size=\"14.00\" text-anchor=\"middle\" x=\"107.5\" y=\"-525.8\">conv2d_14: Conv2D</text>\n",
       "</g>\n",
       "<!-- 2460506814672&#45;&gt;2460542787088 -->\n",
       "<g class=\"edge\" id=\"edge3\"><title>2460506814672-&gt;2460542787088</title>\n",
       "<path d=\"M107.5,-584.313C107.5,-576.289 107.5,-566.547 107.5,-557.569\" fill=\"none\" stroke=\"black\"/>\n",
       "<polygon fill=\"black\" points=\"111,-557.529 107.5,-547.529 104,-557.529 111,-557.529\" stroke=\"black\"/>\n",
       "</g>\n",
       "<!-- 2460506599944 -->\n",
       "<g class=\"node\" id=\"node4\"><title>2460506599944</title>\n",
       "<polygon fill=\"none\" points=\"0,-438.5 0,-474.5 215,-474.5 215,-438.5 0,-438.5\" stroke=\"black\"/>\n",
       "<text font-family=\"Times New Roman,serif\" font-size=\"14.00\" text-anchor=\"middle\" x=\"107.5\" y=\"-452.8\">max_pooling2d_14: MaxPooling2D</text>\n",
       "</g>\n",
       "<!-- 2460542787088&#45;&gt;2460506599944 -->\n",
       "<g class=\"edge\" id=\"edge4\"><title>2460542787088-&gt;2460506599944</title>\n",
       "<path d=\"M107.5,-511.313C107.5,-503.289 107.5,-493.547 107.5,-484.569\" fill=\"none\" stroke=\"black\"/>\n",
       "<polygon fill=\"black\" points=\"111,-484.529 107.5,-474.529 104,-484.529 111,-484.529\" stroke=\"black\"/>\n",
       "</g>\n",
       "<!-- 2460506814560 -->\n",
       "<g class=\"node\" id=\"node5\"><title>2460506814560</title>\n",
       "<polygon fill=\"none\" points=\"40.5,-365.5 40.5,-401.5 174.5,-401.5 174.5,-365.5 40.5,-365.5\" stroke=\"black\"/>\n",
       "<text font-family=\"Times New Roman,serif\" font-size=\"14.00\" text-anchor=\"middle\" x=\"107.5\" y=\"-379.8\">conv2d_15: Conv2D</text>\n",
       "</g>\n",
       "<!-- 2460506599944&#45;&gt;2460506814560 -->\n",
       "<g class=\"edge\" id=\"edge5\"><title>2460506599944-&gt;2460506814560</title>\n",
       "<path d=\"M107.5,-438.313C107.5,-430.289 107.5,-420.547 107.5,-411.569\" fill=\"none\" stroke=\"black\"/>\n",
       "<polygon fill=\"black\" points=\"111,-411.529 107.5,-401.529 104,-411.529 111,-411.529\" stroke=\"black\"/>\n",
       "</g>\n",
       "<!-- 2460512742760 -->\n",
       "<g class=\"node\" id=\"node6\"><title>2460512742760</title>\n",
       "<polygon fill=\"none\" points=\"0,-292.5 0,-328.5 215,-328.5 215,-292.5 0,-292.5\" stroke=\"black\"/>\n",
       "<text font-family=\"Times New Roman,serif\" font-size=\"14.00\" text-anchor=\"middle\" x=\"107.5\" y=\"-306.8\">max_pooling2d_15: MaxPooling2D</text>\n",
       "</g>\n",
       "<!-- 2460506814560&#45;&gt;2460512742760 -->\n",
       "<g class=\"edge\" id=\"edge6\"><title>2460506814560-&gt;2460512742760</title>\n",
       "<path d=\"M107.5,-365.313C107.5,-357.289 107.5,-347.547 107.5,-338.569\" fill=\"none\" stroke=\"black\"/>\n",
       "<polygon fill=\"black\" points=\"111,-338.529 107.5,-328.529 104,-338.529 111,-338.529\" stroke=\"black\"/>\n",
       "</g>\n",
       "<!-- 2460506601400 -->\n",
       "<g class=\"node\" id=\"node7\"><title>2460506601400</title>\n",
       "<polygon fill=\"none\" points=\"53,-219.5 53,-255.5 162,-255.5 162,-219.5 53,-219.5\" stroke=\"black\"/>\n",
       "<text font-family=\"Times New Roman,serif\" font-size=\"14.00\" text-anchor=\"middle\" x=\"107.5\" y=\"-233.8\">flatten_5: Flatten</text>\n",
       "</g>\n",
       "<!-- 2460512742760&#45;&gt;2460506601400 -->\n",
       "<g class=\"edge\" id=\"edge7\"><title>2460512742760-&gt;2460506601400</title>\n",
       "<path d=\"M107.5,-292.313C107.5,-284.289 107.5,-274.547 107.5,-265.569\" fill=\"none\" stroke=\"black\"/>\n",
       "<polygon fill=\"black\" points=\"111,-265.529 107.5,-255.529 104,-265.529 111,-265.529\" stroke=\"black\"/>\n",
       "</g>\n",
       "<!-- 2460512922200 -->\n",
       "<g class=\"node\" id=\"node8\"><title>2460512922200</title>\n",
       "<polygon fill=\"none\" points=\"42.5,-146.5 42.5,-182.5 172.5,-182.5 172.5,-146.5 42.5,-146.5\" stroke=\"black\"/>\n",
       "<text font-family=\"Times New Roman,serif\" font-size=\"14.00\" text-anchor=\"middle\" x=\"107.5\" y=\"-160.8\">dropout_5: Dropout</text>\n",
       "</g>\n",
       "<!-- 2460506601400&#45;&gt;2460512922200 -->\n",
       "<g class=\"edge\" id=\"edge8\"><title>2460506601400-&gt;2460512922200</title>\n",
       "<path d=\"M107.5,-219.313C107.5,-211.289 107.5,-201.547 107.5,-192.569\" fill=\"none\" stroke=\"black\"/>\n",
       "<polygon fill=\"black\" points=\"111,-192.529 107.5,-182.529 104,-192.529 111,-192.529\" stroke=\"black\"/>\n",
       "</g>\n",
       "<!-- 2460512922256 -->\n",
       "<g class=\"node\" id=\"node9\"><title>2460512922256</title>\n",
       "<polygon fill=\"none\" points=\"55.5,-73.5 55.5,-109.5 159.5,-109.5 159.5,-73.5 55.5,-73.5\" stroke=\"black\"/>\n",
       "<text font-family=\"Times New Roman,serif\" font-size=\"14.00\" text-anchor=\"middle\" x=\"107.5\" y=\"-87.8\">dense_9: Dense</text>\n",
       "</g>\n",
       "<!-- 2460512922200&#45;&gt;2460512922256 -->\n",
       "<g class=\"edge\" id=\"edge9\"><title>2460512922200-&gt;2460512922256</title>\n",
       "<path d=\"M107.5,-146.313C107.5,-138.289 107.5,-128.547 107.5,-119.569\" fill=\"none\" stroke=\"black\"/>\n",
       "<polygon fill=\"black\" points=\"111,-119.529 107.5,-109.529 104,-119.529 111,-119.529\" stroke=\"black\"/>\n",
       "</g>\n",
       "<!-- 2460512920912 -->\n",
       "<g class=\"node\" id=\"node10\"><title>2460512920912</title>\n",
       "<polygon fill=\"none\" points=\"52,-0.5 52,-36.5 163,-36.5 163,-0.5 52,-0.5\" stroke=\"black\"/>\n",
       "<text font-family=\"Times New Roman,serif\" font-size=\"14.00\" text-anchor=\"middle\" x=\"107.5\" y=\"-14.8\">dense_10: Dense</text>\n",
       "</g>\n",
       "<!-- 2460512922256&#45;&gt;2460512920912 -->\n",
       "<g class=\"edge\" id=\"edge10\"><title>2460512922256-&gt;2460512920912</title>\n",
       "<path d=\"M107.5,-73.3129C107.5,-65.2895 107.5,-55.5475 107.5,-46.5691\" fill=\"none\" stroke=\"black\"/>\n",
       "<polygon fill=\"black\" points=\"111,-46.5288 107.5,-36.5288 104,-46.5289 111,-46.5288\" stroke=\"black\"/>\n",
       "</g>\n",
       "<!-- 2460506814616 -->\n",
       "<g class=\"node\" id=\"node11\"><title>2460506814616</title>\n",
       "<polygon fill=\"none\" points=\"55.5,-730.5 55.5,-766.5 159.5,-766.5 159.5,-730.5 55.5,-730.5\" stroke=\"black\"/>\n",
       "<text font-family=\"Times New Roman,serif\" font-size=\"14.00\" text-anchor=\"middle\" x=\"107.5\" y=\"-744.8\">2460506814616</text>\n",
       "</g>\n",
       "<!-- 2460506814616&#45;&gt;2460506813216 -->\n",
       "<g class=\"edge\" id=\"edge1\"><title>2460506814616-&gt;2460506813216</title>\n",
       "<path d=\"M107.5,-730.313C107.5,-722.289 107.5,-712.547 107.5,-703.569\" fill=\"none\" stroke=\"black\"/>\n",
       "<polygon fill=\"black\" points=\"111,-703.529 107.5,-693.529 104,-703.529 111,-703.529\" stroke=\"black\"/>\n",
       "</g>\n",
       "</g>\n",
       "</svg>"
      ],
      "text/plain": [
       "<IPython.core.display.SVG object>"
      ]
     },
     "execution_count": 73,
     "metadata": {},
     "output_type": "execute_result"
    }
   ],
   "source": [
    "from IPython.display import SVG\n",
    "from keras.utils.vis_utils import model_to_dot\n",
    "\n",
    "SVG(model_to_dot(model).create(prog='dot', format='svg'))"
   ]
  },
  {
   "cell_type": "markdown",
   "metadata": {
    "colab_type": "text",
    "id": "TfypWUJIlFkz"
   },
   "source": [
    "## Training CNN"
   ]
  },
  {
   "cell_type": "code",
   "execution_count": 74,
   "metadata": {
    "colab": {
     "base_uri": "https://localhost:8080/",
     "height": 931
    },
    "colab_type": "code",
    "id": "zsdmu-ggfvr1",
    "outputId": "77a52558-8ecc-4fc5-e0cb-2b86a75df4c6",
    "scrolled": false
   },
   "outputs": [
    {
     "name": "stdout",
     "output_type": "stream",
     "text": [
      "Train on 264 samples, validate on 132 samples\n",
      "Epoch 1/60\n",
      "264/264 [==============================] - 9s 35ms/step - loss: 1.1022 - acc: 0.3674 - val_loss: 1.1008 - val_acc: 0.3485\n",
      "Epoch 2/60\n",
      "264/264 [==============================] - 8s 31ms/step - loss: 1.0983 - acc: 0.3447 - val_loss: 1.1029 - val_acc: 0.3333\n",
      "Epoch 3/60\n",
      "264/264 [==============================] - 8s 31ms/step - loss: 1.0989 - acc: 0.3561 - val_loss: 1.0893 - val_acc: 0.3258\n",
      "Epoch 4/60\n",
      "264/264 [==============================] - 8s 29ms/step - loss: 1.0790 - acc: 0.3826 - val_loss: 1.1013 - val_acc: 0.3333\n",
      "Epoch 5/60\n",
      "264/264 [==============================] - 8s 29ms/step - loss: 1.0710 - acc: 0.4242 - val_loss: 1.0789 - val_acc: 0.3030\n",
      "Epoch 6/60\n",
      "264/264 [==============================] - 7s 28ms/step - loss: 1.0493 - acc: 0.4924 - val_loss: 1.0715 - val_acc: 0.4394\n",
      "Epoch 7/60\n",
      "264/264 [==============================] - 8s 31ms/step - loss: 1.0360 - acc: 0.4621 - val_loss: 1.0978 - val_acc: 0.3106\n",
      "Epoch 8/60\n",
      "264/264 [==============================] - 8s 31ms/step - loss: 1.0037 - acc: 0.5265 - val_loss: 1.1032 - val_acc: 0.3864\n",
      "Epoch 9/60\n",
      "264/264 [==============================] - 8s 30ms/step - loss: 1.0157 - acc: 0.4886 - val_loss: 1.0719 - val_acc: 0.5379\n",
      "Epoch 10/60\n",
      "264/264 [==============================] - 8s 30ms/step - loss: 0.9898 - acc: 0.4924 - val_loss: 1.1027 - val_acc: 0.5379\n",
      "Epoch 11/60\n",
      "264/264 [==============================] - 8s 31ms/step - loss: 0.9498 - acc: 0.5758 - val_loss: 0.9869 - val_acc: 0.4470\n",
      "Epoch 12/60\n",
      "264/264 [==============================] - 7s 27ms/step - loss: 0.9386 - acc: 0.5341 - val_loss: 0.9708 - val_acc: 0.5985\n",
      "Epoch 13/60\n",
      "264/264 [==============================] - 8s 29ms/step - loss: 0.8892 - acc: 0.6061 - val_loss: 0.9686 - val_acc: 0.5985\n",
      "Epoch 14/60\n",
      "264/264 [==============================] - 8s 31ms/step - loss: 0.8628 - acc: 0.6364 - val_loss: 0.9031 - val_acc: 0.6061\n",
      "Epoch 15/60\n",
      "264/264 [==============================] - 8s 29ms/step - loss: 0.8178 - acc: 0.6553 - val_loss: 0.8804 - val_acc: 0.6061\n",
      "Epoch 16/60\n",
      "264/264 [==============================] - 7s 28ms/step - loss: 0.7922 - acc: 0.6326 - val_loss: 1.0571 - val_acc: 0.5758\n",
      "Epoch 17/60\n",
      "264/264 [==============================] - 8s 32ms/step - loss: 0.8248 - acc: 0.6098 - val_loss: 0.8847 - val_acc: 0.6591\n",
      "Epoch 18/60\n",
      "264/264 [==============================] - 8s 30ms/step - loss: 0.7707 - acc: 0.6856 - val_loss: 0.9078 - val_acc: 0.5758\n",
      "Epoch 19/60\n",
      "264/264 [==============================] - 8s 32ms/step - loss: 0.7594 - acc: 0.6970 - val_loss: 0.8477 - val_acc: 0.6288\n",
      "Epoch 20/60\n",
      "264/264 [==============================] - 7s 28ms/step - loss: 0.7353 - acc: 0.6894 - val_loss: 0.9771 - val_acc: 0.4773\n",
      "Epoch 21/60\n",
      "264/264 [==============================] - 8s 31ms/step - loss: 0.6645 - acc: 0.7576 - val_loss: 0.7421 - val_acc: 0.6742\n",
      "Epoch 22/60\n",
      "264/264 [==============================] - 8s 29ms/step - loss: 0.6852 - acc: 0.6705 - val_loss: 0.7979 - val_acc: 0.6212\n",
      "Epoch 23/60\n",
      "264/264 [==============================] - 8s 31ms/step - loss: 0.6243 - acc: 0.7386 - val_loss: 0.7930 - val_acc: 0.6591\n",
      "Epoch 24/60\n",
      "264/264 [==============================] - 8s 30ms/step - loss: 0.7359 - acc: 0.7045 - val_loss: 0.7613 - val_acc: 0.6818\n",
      "Epoch 25/60\n",
      "264/264 [==============================] - 8s 30ms/step - loss: 0.5756 - acc: 0.7727 - val_loss: 0.7484 - val_acc: 0.6364\n",
      "Epoch 26/60\n",
      "264/264 [==============================] - 8s 30ms/step - loss: 0.6642 - acc: 0.7386 - val_loss: 0.8155 - val_acc: 0.6742\n",
      "Epoch 27/60\n",
      "264/264 [==============================] - 8s 32ms/step - loss: 0.5503 - acc: 0.7803 - val_loss: 1.0871 - val_acc: 0.5303\n",
      "Epoch 28/60\n",
      "264/264 [==============================] - 8s 32ms/step - loss: 0.6124 - acc: 0.7538 - val_loss: 0.7911 - val_acc: 0.6818\n",
      "Epoch 29/60\n",
      "264/264 [==============================] - 9s 33ms/step - loss: 0.5840 - acc: 0.7879 - val_loss: 0.7796 - val_acc: 0.6667\n",
      "Epoch 30/60\n",
      "264/264 [==============================] - 8s 32ms/step - loss: 0.5267 - acc: 0.8068 - val_loss: 0.7078 - val_acc: 0.6894\n",
      "Epoch 31/60\n",
      "264/264 [==============================] - 8s 29ms/step - loss: 0.4661 - acc: 0.8220 - val_loss: 0.6855 - val_acc: 0.7045\n",
      "Epoch 32/60\n",
      "264/264 [==============================] - 8s 30ms/step - loss: 0.5890 - acc: 0.7765 - val_loss: 0.7818 - val_acc: 0.6970\n",
      "Epoch 33/60\n",
      "264/264 [==============================] - 8s 30ms/step - loss: 0.4844 - acc: 0.8106 - val_loss: 0.7443 - val_acc: 0.6970\n",
      "Epoch 34/60\n",
      "264/264 [==============================] - 8s 30ms/step - loss: 0.5034 - acc: 0.7917 - val_loss: 1.0960 - val_acc: 0.5379\n",
      "Epoch 35/60\n",
      "264/264 [==============================] - 8s 29ms/step - loss: 0.4315 - acc: 0.8598 - val_loss: 0.6979 - val_acc: 0.7197\n",
      "Epoch 36/60\n",
      "264/264 [==============================] - 8s 30ms/step - loss: 0.4837 - acc: 0.8030 - val_loss: 0.7854 - val_acc: 0.6970\n",
      "Epoch 37/60\n",
      "264/264 [==============================] - 8s 30ms/step - loss: 0.3847 - acc: 0.8788 - val_loss: 2.0637 - val_acc: 0.4470\n",
      "Epoch 38/60\n",
      "264/264 [==============================] - 9s 33ms/step - loss: 0.5764 - acc: 0.7992 - val_loss: 0.7247 - val_acc: 0.6894\n",
      "Epoch 39/60\n",
      "264/264 [==============================] - 8s 31ms/step - loss: 0.4048 - acc: 0.8485 - val_loss: 0.9588 - val_acc: 0.6591\n",
      "Epoch 40/60\n",
      "264/264 [==============================] - 8s 30ms/step - loss: 0.4529 - acc: 0.8485 - val_loss: 0.7073 - val_acc: 0.7273\n",
      "Epoch 41/60\n",
      "264/264 [==============================] - 8s 30ms/step - loss: 0.3662 - acc: 0.8561 - val_loss: 0.6217 - val_acc: 0.7424\n",
      "Epoch 42/60\n",
      "264/264 [==============================] - 8s 31ms/step - loss: 0.3897 - acc: 0.8447 - val_loss: 0.7779 - val_acc: 0.7803\n",
      "Epoch 43/60\n",
      "264/264 [==============================] - 7s 28ms/step - loss: 0.4300 - acc: 0.8295 - val_loss: 0.7094 - val_acc: 0.7045\n",
      "Epoch 44/60\n",
      "264/264 [==============================] - 8s 32ms/step - loss: 0.4453 - acc: 0.8220 - val_loss: 1.0189 - val_acc: 0.6667\n",
      "Epoch 45/60\n",
      "264/264 [==============================] - 8s 30ms/step - loss: 0.3478 - acc: 0.8523 - val_loss: 0.7517 - val_acc: 0.7348\n",
      "Epoch 46/60\n",
      "264/264 [==============================] - 8s 31ms/step - loss: 0.3666 - acc: 0.8674 - val_loss: 0.7392 - val_acc: 0.6818\n",
      "Epoch 47/60\n",
      "264/264 [==============================] - 8s 29ms/step - loss: 0.3533 - acc: 0.8674 - val_loss: 0.6064 - val_acc: 0.7424\n",
      "Epoch 48/60\n",
      "264/264 [==============================] - 8s 30ms/step - loss: 0.3197 - acc: 0.8864 - val_loss: 1.5335 - val_acc: 0.5985\n",
      "Epoch 49/60\n",
      "264/264 [==============================] - 8s 29ms/step - loss: 0.3668 - acc: 0.8371 - val_loss: 0.6666 - val_acc: 0.7197\n",
      "Epoch 50/60\n",
      "264/264 [==============================] - 8s 31ms/step - loss: 0.3268 - acc: 0.8826 - val_loss: 1.2126 - val_acc: 0.6591\n",
      "Epoch 51/60\n",
      "264/264 [==============================] - 8s 30ms/step - loss: 0.3626 - acc: 0.8750 - val_loss: 0.7301 - val_acc: 0.7652\n",
      "Epoch 52/60\n",
      "264/264 [==============================] - 8s 31ms/step - loss: 0.3478 - acc: 0.8864 - val_loss: 1.2397 - val_acc: 0.6364\n",
      "Epoch 53/60\n",
      "264/264 [==============================] - 8s 30ms/step - loss: 0.3018 - acc: 0.8788 - val_loss: 0.5870 - val_acc: 0.7803\n",
      "Epoch 54/60\n",
      "264/264 [==============================] - 9s 32ms/step - loss: 0.3566 - acc: 0.8750 - val_loss: 0.6551 - val_acc: 0.7803\n",
      "Epoch 55/60\n",
      "264/264 [==============================] - 8s 29ms/step - loss: 0.2146 - acc: 0.9470 - val_loss: 0.9326 - val_acc: 0.7348\n",
      "Epoch 56/60\n",
      "264/264 [==============================] - 8s 30ms/step - loss: 0.3458 - acc: 0.8636 - val_loss: 0.8039 - val_acc: 0.6894\n",
      "Epoch 57/60\n",
      "264/264 [==============================] - 8s 31ms/step - loss: 0.3091 - acc: 0.8902 - val_loss: 0.7938 - val_acc: 0.7424\n",
      "Epoch 58/60\n",
      "264/264 [==============================] - 8s 32ms/step - loss: 0.3001 - acc: 0.8902 - val_loss: 1.1792 - val_acc: 0.6970\n",
      "Epoch 59/60\n",
      "264/264 [==============================] - 8s 30ms/step - loss: 0.3122 - acc: 0.8750 - val_loss: 1.1414 - val_acc: 0.7273\n",
      "Epoch 60/60\n",
      "264/264 [==============================] - 8s 32ms/step - loss: 0.2673 - acc: 0.9129 - val_loss: 0.9312 - val_acc: 0.7576\n"
     ]
    }
   ],
   "source": [
    "EPOCHS = 60\n",
    "history = model.fit(train_data, train_labels, epochs=EPOCHS, validation_data=(test_data, test_labels))"
   ]
  },
  {
   "cell_type": "code",
   "execution_count": 75,
   "metadata": {},
   "outputs": [
    {
     "name": "stdout",
     "output_type": "stream",
     "text": [
      "dict_keys(['val_loss', 'val_acc', 'loss', 'acc'])\n"
     ]
    },
    {
     "data": {
      "image/png": "[encoded data removed]",
      "text/plain": [
       "<matplotlib.figure.Figure at 0x23ce6a5bf98>"
      ]
     },
     "metadata": {},
     "output_type": "display_data"
    },
    {
     "data": {
      "image/png": "[encoded data removed]",
      "text/plain": [
       "<matplotlib.figure.Figure at 0x23ce1f648d0>"
      ]
     },
     "metadata": {},
     "output_type": "display_data"
    }
   ],
   "source": [
    "print(history.history.keys())\n",
    "\n",
    "# Plot training & validation accuracy values\n",
    "plt.plot(history.history['acc'])\n",
    "plt.plot(history.history['val_acc'])\n",
    "\n",
    "plt.title('Model accuracy')\n",
    "plt.ylabel('Accuracy')\n",
    "plt.xlabel('Epoch')\n",
    "plt.legend(['Train', 'Test'], loc='upper left')\n",
    "plt.show()\n",
    "\n",
    "# Plot training & validation loss values\n",
    "plt.plot(history.history['loss'])\n",
    "plt.plot(history.history['val_loss'])\n",
    "plt.title('Model loss')\n",
    "plt.ylabel('Loss')\n",
    "plt.xlabel('Epoch')\n",
    "plt.legend(['Train', 'Test'], loc='upper left')\n",
    "plt.show()"
   ]
  },
  {
   "cell_type": "markdown",
   "metadata": {},
   "source": [
    "## Save the model"
   ]
  },
  {
   "cell_type": "code",
   "execution_count": 76,
   "metadata": {},
   "outputs": [],
   "source": [
    "import datetime\n",
    "\n",
    "dt = datetime.datetime.today().strftime('%Y%m%d%H%M%S')\n",
    "filename = 'rock_paper_scissors_cnn_{}.h5'.format(dt)\n",
    "model.save(filename)"
   ]
  },
  {
   "cell_type": "markdown",
   "metadata": {},
   "source": [
    "## Load the model"
   ]
  },
  {
   "cell_type": "code",
   "execution_count": 77,
   "metadata": {},
   "outputs": [],
   "source": [
    "del model\n",
    "model = models.load_model(filename)"
   ]
  },
  {
   "cell_type": "markdown",
   "metadata": {
    "colab_type": "text",
    "id": "j6con4C3lKC1"
   },
   "source": [
    "## Confirmation"
   ]
  },
  {
   "cell_type": "code",
   "execution_count": 78,
   "metadata": {
    "colab": {
     "base_uri": "https://localhost:8080/",
     "height": 34
    },
    "colab_type": "code",
    "id": "4oZYLLij69wU",
    "outputId": "b37a4b8a-2c80-411f-d8a9-5df1c6dbfe22"
   },
   "outputs": [
    {
     "data": {
      "text/plain": [
       "(264, 32, 32, 3)"
      ]
     },
     "execution_count": 78,
     "metadata": {},
     "output_type": "execute_result"
    }
   ],
   "source": [
    "import numpy as np\n",
    "import matplotlib.pyplot as plt\n",
    "train_data.shape"
   ]
  },
  {
   "cell_type": "code",
   "execution_count": 79,
   "metadata": {
    "colab": {
     "base_uri": "https://localhost:8080/",
     "height": 193
    },
    "colab_type": "code",
    "id": "zSxXE9FgRBdJ",
    "outputId": "f3a53efe-e99f-4572-f9b4-1bf3c39c77ec"
   },
   "outputs": [],
   "source": [
    "layer_outputs = [layer.output for layer in model.layers]\n",
    "#layer_outputs"
   ]
  },
  {
   "cell_type": "code",
   "execution_count": 80,
   "metadata": {
    "colab": {
     "base_uri": "https://localhost:8080/",
     "height": 34
    },
    "colab_type": "code",
    "id": "dcw7yHKrRkPD",
    "outputId": "a3ed5441-ae48-4635-bf07-ac5060030608"
   },
   "outputs": [],
   "source": [
    "activation_model = models.Model(inputs=model.input, outputs=layer_outputs)\n",
    "activations = activation_model.predict(test_data)\n",
    "#activations[0][0,:,:,0].shape"
   ]
  },
  {
   "cell_type": "code",
   "execution_count": 81,
   "metadata": {},
   "outputs": [
    {
     "data": {
      "text/plain": [
       "['paper', 'rock', 'scissors']"
      ]
     },
     "execution_count": 81,
     "metadata": {},
     "output_type": "execute_result"
    }
   ],
   "source": [
    "class_labels"
   ]
  },
  {
   "cell_type": "code",
   "execution_count": 82,
   "metadata": {
    "colab": {
     "base_uri": "https://localhost:8080/",
     "height": 193
    },
    "colab_type": "code",
    "id": "ccSNAwGKhRn9",
    "outputId": "0ad22e12-713b-4b07-e17b-45d39ff1b80b"
   },
   "outputs": [
    {
     "data": {
      "text/plain": [
       "array([[96,  0,  3],\n",
       "       [ 0, 97,  2],\n",
       "       [ 0,  0, 99],\n",
       "       [ 0,  0, 99],\n",
       "       [ 3,  6, 89],\n",
       "       [ 0,  0, 98],\n",
       "       [ 0,  0, 99],\n",
       "       [ 0, 46, 53],\n",
       "       [ 2, 71, 25],\n",
       "       [58,  0, 40]])"
      ]
     },
     "execution_count": 82,
     "metadata": {},
     "output_type": "execute_result"
    }
   ],
   "source": [
    "(activations[-1][:10]*100).astype(int)"
   ]
  },
  {
   "cell_type": "code",
   "execution_count": 83,
   "metadata": {
    "colab": {
     "base_uri": "https://localhost:8080/",
     "height": 193
    },
    "colab_type": "code",
    "id": "RoE0nxtuiGIN",
    "outputId": "154437a8-ab72-46f4-f42c-3e6464af47d0"
   },
   "outputs": [
    {
     "data": {
      "text/plain": [
       "array([[1, 0, 0],\n",
       "       [0, 1, 0],\n",
       "       [0, 0, 1],\n",
       "       [0, 0, 1],\n",
       "       [1, 0, 0],\n",
       "       [0, 0, 1],\n",
       "       [0, 0, 1],\n",
       "       [1, 0, 0],\n",
       "       [0, 1, 0],\n",
       "       [1, 0, 0]])"
      ]
     },
     "execution_count": 83,
     "metadata": {},
     "output_type": "execute_result"
    }
   ],
   "source": [
    "test_labels[:10].astype(int)"
   ]
  },
  {
   "cell_type": "code",
   "execution_count": 84,
   "metadata": {},
   "outputs": [],
   "source": [
    "def plot_layer(activations, sample, layer):\n",
    "    a = activations[layer].shape\n",
    "    rows = int(a[3]/4)\n",
    "    fig, axarr = plt.subplots(rows, 4, figsize=[20,15])\n",
    "    for i in range(a[3]):\n",
    "        row = int(i/4)\n",
    "        x, y = row, i-4*row\n",
    "        axarr[x, y].imshow(activations[layer][sample, :, :, i])\n",
    "        axarr[x, y].set_xticks([])\n",
    "        axarr[x, y].set_yticks([])"
   ]
  },
  {
   "cell_type": "code",
   "execution_count": 85,
   "metadata": {},
   "outputs": [
    {
     "data": {
      "text/plain": [
       "'rock'"
      ]
     },
     "execution_count": 85,
     "metadata": {},
     "output_type": "execute_result"
    },
    {
     "data": {
      "image/png": "[encoded data removed]",
      "text/plain": [
       "<matplotlib.figure.Figure at 0x23ce6a5d898>"
      ]
     },
     "metadata": {},
     "output_type": "display_data"
    }
   ],
   "source": [
    "image_number = 22\n",
    "\n",
    "plt.imshow(test_data[image_number,:,:,:])\n",
    "class_labels[np.argmax(test_labels[image_number])]"
   ]
  },
  {
   "cell_type": "code",
   "execution_count": 86,
   "metadata": {},
   "outputs": [
    {
     "data": {
      "image/png": "[encoded data removed]",
      "text/plain": [
       "<matplotlib.figure.Figure at 0x23ce1f590f0>"
      ]
     },
     "metadata": {},
     "output_type": "display_data"
    }
   ],
   "source": [
    "plot_layer(activations, image_number, 1)"
   ]
  },
  {
   "cell_type": "code",
   "execution_count": 87,
   "metadata": {},
   "outputs": [
    {
     "data": {
      "image/png": "[encoded data removed]",
      "text/plain": [
       "<matplotlib.figure.Figure at 0x23cda485860>"
      ]
     },
     "metadata": {},
     "output_type": "display_data"
    }
   ],
   "source": [
    "plot_layer(activations, image_number, 5)"
   ]
  },
  {
   "cell_type": "code",
   "execution_count": null,
   "metadata": {},
   "outputs": [],
   "source": []
  }
 ],
 "metadata": {
  "colab": {
   "collapsed_sections": [],
   "name": "CNN for AED",
   "provenance": [],
   "version": "0.3.2"
  },
  "kernelspec": {
   "display_name": "Python 3",
   "language": "python",
   "name": "python3"
  },
  "language_info": {
   "codemirror_mode": {
    "name": "ipython",
    "version": 3
   },
   "file_extension": ".py",
   "mimetype": "text/x-python",
   "name": "python",
   "nbconvert_exporter": "python",
   "pygments_lexer": "ipython3",
   "version": "3.6.4"
  }
 },
 "nbformat": 4,
 "nbformat_minor": 1
}
