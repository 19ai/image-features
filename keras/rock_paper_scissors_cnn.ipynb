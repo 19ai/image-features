{
 "cells": [
  {
   "cell_type": "markdown",
   "metadata": {
    "colab_type": "text",
    "id": "0X16cagQE-Y-"
   },
   "source": [
    "# CNN for rock-paper-scissors with Keras/TensorFlow\n",
    "\n",
    "Date: February 24, 2019\n",
    "\n",
    "Classification:\n",
    "- rock\n",
    "- paper\n",
    "- scissors"
   ]
  },
  {
   "cell_type": "markdown",
   "metadata": {
    "colab_type": "text",
    "id": "WwQ-dEltkl5Q"
   },
   "source": [
    "## Preparing data set for CNN"
   ]
  },
  {
   "cell_type": "code",
   "execution_count": 1,
   "metadata": {
    "colab": {
     "base_uri": "https://localhost:8080/",
     "height": 34
    },
    "colab_type": "code",
    "id": "VEJyQsGpV3ug",
    "outputId": "3929aa39-3383-4791-e065-3622e6781181"
   },
   "outputs": [],
   "source": [
    "DATA_FOLDER = '../python/data/'\n",
    "\n",
    "FILES = 172\n",
    "TRAINING_FILES = 120\n",
    "TEST_FILES = FILES - TRAINING_FILES"
   ]
  },
  {
   "cell_type": "code",
   "execution_count": 2,
   "metadata": {
    "colab": {},
    "colab_type": "code",
    "id": "JTNdoPBFWGky"
   },
   "outputs": [],
   "source": [
    "%matplotlib inline\n",
    "\n",
    "import matplotlib.pyplot as plt\n",
    "import numpy as np\n",
    "import time\n",
    "import random\n",
    "import os\n",
    "import sklearn.preprocessing as pp"
   ]
  },
  {
   "cell_type": "code",
   "execution_count": 3,
   "metadata": {},
   "outputs": [
    {
     "name": "stdout",
     "output_type": "stream",
     "text": [
      "0: paper\n",
      "1: rock\n",
      "2: scissors\n"
     ]
    }
   ],
   "source": [
    "import glob\n",
    "\n",
    "data_files = glob.glob(DATA_FOLDER+'*.csv')\n",
    "class_labels = []\n",
    "\n",
    "for file in data_files:\n",
    "    label = file.split('-')[0].replace('\\\\', '/').split('/')[-1]\n",
    "    if label not in class_labels:\n",
    "        class_labels.append(label)\n",
    "\n",
    "data_set = {}\n",
    "\n",
    "class_number = 0\n",
    "\n",
    "for label in class_labels:\n",
    "    files = glob.glob(DATA_FOLDER+'{}-*.csv'.format(label))\n",
    "    random.shuffle(files)\n",
    "    data_set[label] = (files[:TRAINING_FILES], files[TRAINING_FILES:FILES], class_number)\n",
    "    class_number += 1\n",
    "\n",
    "training_set = []\n",
    "test_set = []\n",
    "\n",
    "for k, v in data_set.items():\n",
    "    files = v[0]\n",
    "    class_number = v[2]\n",
    "    for file in files:\n",
    "        with open(file) as f:\n",
    "            data = np.array(f.read().split(',')).astype(float)\n",
    "            training_set.append((pp.minmax_scale(data), class_number))\n",
    "    files = v[1]\n",
    "    for file in files:\n",
    "        with open(file) as f:\n",
    "            data = np.array(f.read().split(',')).astype(float)\n",
    "            test_set.append((pp.minmax_scale(data), class_number))\n",
    "random.shuffle(training_set)\n",
    "random.shuffle(test_set)\n",
    "\n",
    "class_labels = [None for _ in range(len(data_set))]\n",
    "\n",
    "# Class number and class labels\n",
    "for k,v in data_set.items():\n",
    "    print('{}: {}'.format(v[2],k))\n",
    "    class_labels[v[2]] = k\n",
    "    \n",
    "import yaml\n",
    "with open(DATA_FOLDER+'class_labels.yaml', 'w') as f:\n",
    "    yaml.dump(class_labels, f)"
   ]
  },
  {
   "cell_type": "code",
   "execution_count": 5,
   "metadata": {
    "colab": {},
    "colab_type": "code",
    "id": "28tIKkNyW3cO"
   },
   "outputs": [
    {
     "data": {
      "text/plain": [
       "<matplotlib.image.AxesImage at 0x25a0a2712e8>"
      ]
     },
     "execution_count": 5,
     "metadata": {},
     "output_type": "execute_result"
    },
    {
     "data": {
      "image/png": "[encoded data removed]",
      "text/plain": [
       "<matplotlib.figure.Figure at 0x25a0f47b908>"
      ]
     },
     "metadata": {},
     "output_type": "display_data"
    }
   ],
   "source": [
    "train_data, train_labels = [], []\n",
    "test_data, test_labels = [], []\n",
    "for img, label in training_set:\n",
    "    train_data.append(img)\n",
    "    train_labels.append(label)\n",
    "for img, label in test_set:\n",
    "    test_data.append(img)\n",
    "    test_labels.append(label)\n",
    "train_data = np.array(train_data).reshape((TRAINING_FILES*len(class_labels), 32, 32, 3))\n",
    "train_labels = np.array(train_labels, dtype='uint8')\n",
    "test_data = np.array(test_data).reshape((TEST_FILES*len(class_labels), 32, 32, 3))\n",
    "test_lables = np.array(test_labels, dtype='uint8')\n",
    "#train_data.shape\n",
    "\n",
    "from keras.utils import to_categorical\n",
    "\n",
    "train_labels=to_categorical(train_labels)\n",
    "test_labels=to_categorical(test_labels)\n",
    "\n",
    "plt.imshow(train_data[12,:,:,:])\n",
    "#train_data[12,:,:,0]"
   ]
  },
  {
   "cell_type": "markdown",
   "metadata": {
    "colab_type": "text",
    "id": "VfUmgxxVk6uM"
   },
   "source": [
    "### CNN model"
   ]
  },
  {
   "cell_type": "code",
   "execution_count": 8,
   "metadata": {
    "colab": {
     "base_uri": "https://localhost:8080/",
     "height": 509
    },
    "colab_type": "code",
    "id": "B2Xg6tGLdMKP",
    "outputId": "ae3daa32-9dbf-4d8b-9a11-7f596dd2e4a6"
   },
   "outputs": [
    {
     "name": "stdout",
     "output_type": "stream",
     "text": [
      "_________________________________________________________________\n",
      "Layer (type)                 Output Shape              Param #   \n",
      "=================================================================\n",
      "conv2d_7 (Conv2D)            (None, 32, 32, 16)        448       \n",
      "_________________________________________________________________\n",
      "max_pooling2d_7 (MaxPooling2 (None, 16, 16, 16)        0         \n",
      "_________________________________________________________________\n",
      "dropout_9 (Dropout)          (None, 16, 16, 16)        0         \n",
      "_________________________________________________________________\n",
      "conv2d_8 (Conv2D)            (None, 16, 16, 32)        4640      \n",
      "_________________________________________________________________\n",
      "max_pooling2d_8 (MaxPooling2 (None, 8, 8, 32)          0         \n",
      "_________________________________________________________________\n",
      "dropout_10 (Dropout)         (None, 8, 8, 32)          0         \n",
      "_________________________________________________________________\n",
      "conv2d_9 (Conv2D)            (None, 8, 8, 64)          18496     \n",
      "_________________________________________________________________\n",
      "max_pooling2d_9 (MaxPooling2 (None, 4, 4, 64)          0         \n",
      "_________________________________________________________________\n",
      "dropout_11 (Dropout)         (None, 4, 4, 64)          0         \n",
      "_________________________________________________________________\n",
      "flatten_3 (Flatten)          (None, 1024)              0         \n",
      "_________________________________________________________________\n",
      "dropout_12 (Dropout)         (None, 1024)              0         \n",
      "_________________________________________________________________\n",
      "dense_5 (Dense)              (None, 128)               131200    \n",
      "_________________________________________________________________\n",
      "dense_6 (Dense)              (None, 3)                 387       \n",
      "=================================================================\n",
      "Total params: 155,171\n",
      "Trainable params: 155,171\n",
      "Non-trainable params: 0\n",
      "_________________________________________________________________\n"
     ]
    }
   ],
   "source": [
    "from keras import layers\n",
    "from keras import models\n",
    "\n",
    "model = models.Sequential()\n",
    "\n",
    "model.add(layers.Conv2D(16, (3, 3), padding='same', activation='relu', input_shape=(32, 32, 3)))\n",
    "model.add(layers.MaxPooling2D((2,2)))\n",
    "model.add(layers.Dropout(0.25))\n",
    "\n",
    "model.add(layers.Conv2D(32, (3, 3), padding='same', activation='relu'))\n",
    "model.add(layers.MaxPooling2D((2,2)))\n",
    "model.add(layers.Dropout(0.25))\n",
    "\n",
    "model.add(layers.Conv2D(64, (3, 3), padding='same', activation='relu'))\n",
    "model.add(layers.MaxPooling2D((2,2)))\n",
    "model.add(layers.Dropout(0.25))\n",
    "\n",
    "model.add(layers.Flatten())\n",
    "model.add(layers.Dropout(0.25))\n",
    "model.add(layers.Dense(128, activation='relu'))\n",
    "model.add(layers.Dense(len(class_labels), activation='softmax'))\n",
    "\n",
    "model.summary()"
   ]
  },
  {
   "cell_type": "code",
   "execution_count": 9,
   "metadata": {
    "colab": {},
    "colab_type": "code",
    "id": "nRr1L_4ogL6i"
   },
   "outputs": [],
   "source": [
    "model.compile(optimizer='rmsprop', loss='categorical_crossentropy', metrics=['accuracy'])"
   ]
  },
  {
   "cell_type": "code",
   "execution_count": 10,
   "metadata": {},
   "outputs": [
    {
     "data": {
      "image/svg+xml": [
       "<svg height=\"994pt\" viewBox=\"0.00 0.00 217.00 994.00\" width=\"217pt\" xmlns=\"http://www.w3.org/2000/svg\" xmlns:xlink=\"http://www.w3.org/1999/xlink\">\n",
       "<g class=\"graph\" id=\"graph0\" transform=\"scale(1 1) rotate(0) translate(4 990)\">\n",
       "<title>G</title>\n",
       "<polygon fill=\"white\" points=\"-4,4 -4,-990 213,-990 213,4 -4,4\" stroke=\"none\"/>\n",
       "<!-- 2585743849008 -->\n",
       "<g class=\"node\" id=\"node1\"><title>2585743849008</title>\n",
       "<polygon fill=\"none\" points=\"41,-876.5 41,-912.5 168,-912.5 168,-876.5 41,-876.5\" stroke=\"black\"/>\n",
       "<text font-family=\"Times New Roman,serif\" font-size=\"14.00\" text-anchor=\"middle\" x=\"104.5\" y=\"-890.8\">conv2d_7: Conv2D</text>\n",
       "</g>\n",
       "<!-- 2585743850184 -->\n",
       "<g class=\"node\" id=\"node2\"><title>2585743850184</title>\n",
       "<polygon fill=\"none\" points=\"0,-803.5 0,-839.5 209,-839.5 209,-803.5 0,-803.5\" stroke=\"black\"/>\n",
       "<text font-family=\"Times New Roman,serif\" font-size=\"14.00\" text-anchor=\"middle\" x=\"104.5\" y=\"-817.8\">max_pooling2d_7: MaxPooling2D</text>\n",
       "</g>\n",
       "<!-- 2585743849008&#45;&gt;2585743850184 -->\n",
       "<g class=\"edge\" id=\"edge2\"><title>2585743849008-&gt;2585743850184</title>\n",
       "<path d=\"M104.5,-876.313C104.5,-868.289 104.5,-858.547 104.5,-849.569\" fill=\"none\" stroke=\"black\"/>\n",
       "<polygon fill=\"black\" points=\"108,-849.529 104.5,-839.529 101,-849.529 108,-849.529\" stroke=\"black\"/>\n",
       "</g>\n",
       "<!-- 2585743848840 -->\n",
       "<g class=\"node\" id=\"node3\"><title>2585743848840</title>\n",
       "<polygon fill=\"none\" points=\"39.5,-730.5 39.5,-766.5 169.5,-766.5 169.5,-730.5 39.5,-730.5\" stroke=\"black\"/>\n",
       "<text font-family=\"Times New Roman,serif\" font-size=\"14.00\" text-anchor=\"middle\" x=\"104.5\" y=\"-744.8\">dropout_9: Dropout</text>\n",
       "</g>\n",
       "<!-- 2585743850184&#45;&gt;2585743848840 -->\n",
       "<g class=\"edge\" id=\"edge3\"><title>2585743850184-&gt;2585743848840</title>\n",
       "<path d=\"M104.5,-803.313C104.5,-795.289 104.5,-785.547 104.5,-776.569\" fill=\"none\" stroke=\"black\"/>\n",
       "<polygon fill=\"black\" points=\"108,-776.529 104.5,-766.529 101,-776.529 108,-776.529\" stroke=\"black\"/>\n",
       "</g>\n",
       "<!-- 2585743850072 -->\n",
       "<g class=\"node\" id=\"node4\"><title>2585743850072</title>\n",
       "<polygon fill=\"none\" points=\"41,-657.5 41,-693.5 168,-693.5 168,-657.5 41,-657.5\" stroke=\"black\"/>\n",
       "<text font-family=\"Times New Roman,serif\" font-size=\"14.00\" text-anchor=\"middle\" x=\"104.5\" y=\"-671.8\">conv2d_8: Conv2D</text>\n",
       "</g>\n",
       "<!-- 2585743848840&#45;&gt;2585743850072 -->\n",
       "<g class=\"edge\" id=\"edge4\"><title>2585743848840-&gt;2585743850072</title>\n",
       "<path d=\"M104.5,-730.313C104.5,-722.289 104.5,-712.547 104.5,-703.569\" fill=\"none\" stroke=\"black\"/>\n",
       "<polygon fill=\"black\" points=\"108,-703.529 104.5,-693.529 101,-703.529 108,-703.529\" stroke=\"black\"/>\n",
       "</g>\n",
       "<!-- 2585744021376 -->\n",
       "<g class=\"node\" id=\"node5\"><title>2585744021376</title>\n",
       "<polygon fill=\"none\" points=\"0,-584.5 0,-620.5 209,-620.5 209,-584.5 0,-584.5\" stroke=\"black\"/>\n",
       "<text font-family=\"Times New Roman,serif\" font-size=\"14.00\" text-anchor=\"middle\" x=\"104.5\" y=\"-598.8\">max_pooling2d_8: MaxPooling2D</text>\n",
       "</g>\n",
       "<!-- 2585743850072&#45;&gt;2585744021376 -->\n",
       "<g class=\"edge\" id=\"edge5\"><title>2585743850072-&gt;2585744021376</title>\n",
       "<path d=\"M104.5,-657.313C104.5,-649.289 104.5,-639.547 104.5,-630.569\" fill=\"none\" stroke=\"black\"/>\n",
       "<polygon fill=\"black\" points=\"108,-630.529 104.5,-620.529 101,-630.529 108,-630.529\" stroke=\"black\"/>\n",
       "</g>\n",
       "<!-- 2585743850464 -->\n",
       "<g class=\"node\" id=\"node6\"><title>2585743850464</title>\n",
       "<polygon fill=\"none\" points=\"36,-511.5 36,-547.5 173,-547.5 173,-511.5 36,-511.5\" stroke=\"black\"/>\n",
       "<text font-family=\"Times New Roman,serif\" font-size=\"14.00\" text-anchor=\"middle\" x=\"104.5\" y=\"-525.8\">dropout_10: Dropout</text>\n",
       "</g>\n",
       "<!-- 2585744021376&#45;&gt;2585743850464 -->\n",
       "<g class=\"edge\" id=\"edge6\"><title>2585744021376-&gt;2585743850464</title>\n",
       "<path d=\"M104.5,-584.313C104.5,-576.289 104.5,-566.547 104.5,-557.569\" fill=\"none\" stroke=\"black\"/>\n",
       "<polygon fill=\"black\" points=\"108,-557.529 104.5,-547.529 101,-557.529 108,-557.529\" stroke=\"black\"/>\n",
       "</g>\n",
       "<!-- 2585744022272 -->\n",
       "<g class=\"node\" id=\"node7\"><title>2585744022272</title>\n",
       "<polygon fill=\"none\" points=\"41,-438.5 41,-474.5 168,-474.5 168,-438.5 41,-438.5\" stroke=\"black\"/>\n",
       "<text font-family=\"Times New Roman,serif\" font-size=\"14.00\" text-anchor=\"middle\" x=\"104.5\" y=\"-452.8\">conv2d_9: Conv2D</text>\n",
       "</g>\n",
       "<!-- 2585743850464&#45;&gt;2585744022272 -->\n",
       "<g class=\"edge\" id=\"edge7\"><title>2585743850464-&gt;2585744022272</title>\n",
       "<path d=\"M104.5,-511.313C104.5,-503.289 104.5,-493.547 104.5,-484.569\" fill=\"none\" stroke=\"black\"/>\n",
       "<polygon fill=\"black\" points=\"108,-484.529 104.5,-474.529 101,-484.529 108,-484.529\" stroke=\"black\"/>\n",
       "</g>\n",
       "<!-- 2585834338064 -->\n",
       "<g class=\"node\" id=\"node8\"><title>2585834338064</title>\n",
       "<polygon fill=\"none\" points=\"0,-365.5 0,-401.5 209,-401.5 209,-365.5 0,-365.5\" stroke=\"black\"/>\n",
       "<text font-family=\"Times New Roman,serif\" font-size=\"14.00\" text-anchor=\"middle\" x=\"104.5\" y=\"-379.8\">max_pooling2d_9: MaxPooling2D</text>\n",
       "</g>\n",
       "<!-- 2585744022272&#45;&gt;2585834338064 -->\n",
       "<g class=\"edge\" id=\"edge8\"><title>2585744022272-&gt;2585834338064</title>\n",
       "<path d=\"M104.5,-438.313C104.5,-430.289 104.5,-420.547 104.5,-411.569\" fill=\"none\" stroke=\"black\"/>\n",
       "<polygon fill=\"black\" points=\"108,-411.529 104.5,-401.529 101,-411.529 108,-411.529\" stroke=\"black\"/>\n",
       "</g>\n",
       "<!-- 2585744020592 -->\n",
       "<g class=\"node\" id=\"node9\"><title>2585744020592</title>\n",
       "<polygon fill=\"none\" points=\"36,-292.5 36,-328.5 173,-328.5 173,-292.5 36,-292.5\" stroke=\"black\"/>\n",
       "<text font-family=\"Times New Roman,serif\" font-size=\"14.00\" text-anchor=\"middle\" x=\"104.5\" y=\"-306.8\">dropout_11: Dropout</text>\n",
       "</g>\n",
       "<!-- 2585834338064&#45;&gt;2585744020592 -->\n",
       "<g class=\"edge\" id=\"edge9\"><title>2585834338064-&gt;2585744020592</title>\n",
       "<path d=\"M104.5,-365.313C104.5,-357.289 104.5,-347.547 104.5,-338.569\" fill=\"none\" stroke=\"black\"/>\n",
       "<polygon fill=\"black\" points=\"108,-338.529 104.5,-328.529 101,-338.529 108,-338.529\" stroke=\"black\"/>\n",
       "</g>\n",
       "<!-- 2585834415608 -->\n",
       "<g class=\"node\" id=\"node10\"><title>2585834415608</title>\n",
       "<polygon fill=\"none\" points=\"50,-219.5 50,-255.5 159,-255.5 159,-219.5 50,-219.5\" stroke=\"black\"/>\n",
       "<text font-family=\"Times New Roman,serif\" font-size=\"14.00\" text-anchor=\"middle\" x=\"104.5\" y=\"-233.8\">flatten_3: Flatten</text>\n",
       "</g>\n",
       "<!-- 2585744020592&#45;&gt;2585834415608 -->\n",
       "<g class=\"edge\" id=\"edge10\"><title>2585744020592-&gt;2585834415608</title>\n",
       "<path d=\"M104.5,-292.313C104.5,-284.289 104.5,-274.547 104.5,-265.569\" fill=\"none\" stroke=\"black\"/>\n",
       "<polygon fill=\"black\" points=\"108,-265.529 104.5,-255.529 101,-265.529 108,-265.529\" stroke=\"black\"/>\n",
       "</g>\n",
       "<!-- 2585834604248 -->\n",
       "<g class=\"node\" id=\"node11\"><title>2585834604248</title>\n",
       "<polygon fill=\"none\" points=\"36,-146.5 36,-182.5 173,-182.5 173,-146.5 36,-146.5\" stroke=\"black\"/>\n",
       "<text font-family=\"Times New Roman,serif\" font-size=\"14.00\" text-anchor=\"middle\" x=\"104.5\" y=\"-160.8\">dropout_12: Dropout</text>\n",
       "</g>\n",
       "<!-- 2585834415608&#45;&gt;2585834604248 -->\n",
       "<g class=\"edge\" id=\"edge11\"><title>2585834415608-&gt;2585834604248</title>\n",
       "<path d=\"M104.5,-219.313C104.5,-211.289 104.5,-201.547 104.5,-192.569\" fill=\"none\" stroke=\"black\"/>\n",
       "<polygon fill=\"black\" points=\"108,-192.529 104.5,-182.529 101,-192.529 108,-192.529\" stroke=\"black\"/>\n",
       "</g>\n",
       "<!-- 2585834605200 -->\n",
       "<g class=\"node\" id=\"node12\"><title>2585834605200</title>\n",
       "<polygon fill=\"none\" points=\"52.5,-73.5 52.5,-109.5 156.5,-109.5 156.5,-73.5 52.5,-73.5\" stroke=\"black\"/>\n",
       "<text font-family=\"Times New Roman,serif\" font-size=\"14.00\" text-anchor=\"middle\" x=\"104.5\" y=\"-87.8\">dense_5: Dense</text>\n",
       "</g>\n",
       "<!-- 2585834604248&#45;&gt;2585834605200 -->\n",
       "<g class=\"edge\" id=\"edge12\"><title>2585834604248-&gt;2585834605200</title>\n",
       "<path d=\"M104.5,-146.313C104.5,-138.289 104.5,-128.547 104.5,-119.569\" fill=\"none\" stroke=\"black\"/>\n",
       "<polygon fill=\"black\" points=\"108,-119.529 104.5,-109.529 101,-119.529 108,-119.529\" stroke=\"black\"/>\n",
       "</g>\n",
       "<!-- 2585834340248 -->\n",
       "<g class=\"node\" id=\"node13\"><title>2585834340248</title>\n",
       "<polygon fill=\"none\" points=\"52.5,-0.5 52.5,-36.5 156.5,-36.5 156.5,-0.5 52.5,-0.5\" stroke=\"black\"/>\n",
       "<text font-family=\"Times New Roman,serif\" font-size=\"14.00\" text-anchor=\"middle\" x=\"104.5\" y=\"-14.8\">dense_6: Dense</text>\n",
       "</g>\n",
       "<!-- 2585834605200&#45;&gt;2585834340248 -->\n",
       "<g class=\"edge\" id=\"edge13\"><title>2585834605200-&gt;2585834340248</title>\n",
       "<path d=\"M104.5,-73.3129C104.5,-65.2895 104.5,-55.5475 104.5,-46.5691\" fill=\"none\" stroke=\"black\"/>\n",
       "<polygon fill=\"black\" points=\"108,-46.5288 104.5,-36.5288 101,-46.5289 108,-46.5288\" stroke=\"black\"/>\n",
       "</g>\n",
       "<!-- 2585743850128 -->\n",
       "<g class=\"node\" id=\"node14\"><title>2585743850128</title>\n",
       "<polygon fill=\"none\" points=\"52.5,-949.5 52.5,-985.5 156.5,-985.5 156.5,-949.5 52.5,-949.5\" stroke=\"black\"/>\n",
       "<text font-family=\"Times New Roman,serif\" font-size=\"14.00\" text-anchor=\"middle\" x=\"104.5\" y=\"-963.8\">2585743850128</text>\n",
       "</g>\n",
       "<!-- 2585743850128&#45;&gt;2585743849008 -->\n",
       "<g class=\"edge\" id=\"edge1\"><title>2585743850128-&gt;2585743849008</title>\n",
       "<path d=\"M104.5,-949.313C104.5,-941.289 104.5,-931.547 104.5,-922.569\" fill=\"none\" stroke=\"black\"/>\n",
       "<polygon fill=\"black\" points=\"108,-922.529 104.5,-912.529 101,-922.529 108,-922.529\" stroke=\"black\"/>\n",
       "</g>\n",
       "</g>\n",
       "</svg>"
      ],
      "text/plain": [
       "<IPython.core.display.SVG object>"
      ]
     },
     "execution_count": 10,
     "metadata": {},
     "output_type": "execute_result"
    }
   ],
   "source": [
    "from IPython.display import SVG\n",
    "from keras.utils.vis_utils import model_to_dot\n",
    "\n",
    "SVG(model_to_dot(model).create(prog='dot', format='svg'))"
   ]
  },
  {
   "cell_type": "markdown",
   "metadata": {
    "colab_type": "text",
    "id": "TfypWUJIlFkz"
   },
   "source": [
    "## Training CNN"
   ]
  },
  {
   "cell_type": "code",
   "execution_count": 11,
   "metadata": {
    "colab": {
     "base_uri": "https://localhost:8080/",
     "height": 931
    },
    "colab_type": "code",
    "id": "zsdmu-ggfvr1",
    "outputId": "77a52558-8ecc-4fc5-e0cb-2b86a75df4c6",
    "scrolled": false
   },
   "outputs": [
    {
     "name": "stdout",
     "output_type": "stream",
     "text": [
      "Train on 360 samples, validate on 156 samples\n",
      "Epoch 1/60\n",
      "360/360 [==============================] - 14s 39ms/step - loss: 1.1555 - acc: 0.3278 - val_loss: 1.0998 - val_acc: 0.3333\n",
      "Epoch 2/60\n",
      "360/360 [==============================] - 11s 31ms/step - loss: 1.1067 - acc: 0.3222 - val_loss: 1.1001 - val_acc: 0.3333\n",
      "Epoch 3/60\n",
      "360/360 [==============================] - 11s 31ms/step - loss: 1.1015 - acc: 0.3639 - val_loss: 1.0973 - val_acc: 0.3333\n",
      "Epoch 4/60\n",
      "360/360 [==============================] - 13s 35ms/step - loss: 1.1000 - acc: 0.3556 - val_loss: 1.0993 - val_acc: 0.3333\n",
      "Epoch 5/60\n",
      "360/360 [==============================] - 11s 31ms/step - loss: 1.0977 - acc: 0.3639 - val_loss: 1.0968 - val_acc: 0.3333\n",
      "Epoch 6/60\n",
      "360/360 [==============================] - 11s 31ms/step - loss: 1.1025 - acc: 0.3389 - val_loss: 1.1087 - val_acc: 0.3333\n",
      "Epoch 7/60\n",
      "360/360 [==============================] - 12s 32ms/step - loss: 1.1069 - acc: 0.3333 - val_loss: 1.0982 - val_acc: 0.3654\n",
      "Epoch 8/60\n",
      "360/360 [==============================] - 11s 32ms/step - loss: 1.0935 - acc: 0.3500 - val_loss: 1.0940 - val_acc: 0.3462\n",
      "Epoch 9/60\n",
      "360/360 [==============================] - 11s 30ms/step - loss: 1.0979 - acc: 0.3667 - val_loss: 1.1064 - val_acc: 0.3333\n",
      "Epoch 10/60\n",
      "360/360 [==============================] - 11s 31ms/step - loss: 1.0802 - acc: 0.3917 - val_loss: 1.1135 - val_acc: 0.3462\n",
      "Epoch 11/60\n",
      "360/360 [==============================] - 11s 31ms/step - loss: 1.1028 - acc: 0.3889 - val_loss: 1.0927 - val_acc: 0.3782\n",
      "Epoch 12/60\n",
      "360/360 [==============================] - 11s 30ms/step - loss: 1.0938 - acc: 0.3972 - val_loss: 1.0962 - val_acc: 0.3782\n",
      "Epoch 13/60\n",
      "360/360 [==============================] - 11s 31ms/step - loss: 1.1112 - acc: 0.3750 - val_loss: 1.0979 - val_acc: 0.3718\n",
      "Epoch 14/60\n",
      "360/360 [==============================] - 11s 31ms/step - loss: 1.0904 - acc: 0.3889 - val_loss: 1.0841 - val_acc: 0.4615\n",
      "Epoch 15/60\n",
      "360/360 [==============================] - 11s 31ms/step - loss: 1.1059 - acc: 0.3722 - val_loss: 1.0837 - val_acc: 0.3590\n",
      "Epoch 16/60\n",
      "360/360 [==============================] - 11s 31ms/step - loss: 1.0932 - acc: 0.3917 - val_loss: 1.0863 - val_acc: 0.4038\n",
      "Epoch 17/60\n",
      "360/360 [==============================] - 11s 31ms/step - loss: 1.0985 - acc: 0.3944 - val_loss: 1.0989 - val_acc: 0.3462\n",
      "Epoch 18/60\n",
      "360/360 [==============================] - 11s 31ms/step - loss: 1.0871 - acc: 0.3917 - val_loss: 1.0841 - val_acc: 0.3590\n",
      "Epoch 19/60\n",
      "360/360 [==============================] - 11s 31ms/step - loss: 1.0770 - acc: 0.4111 - val_loss: 1.0801 - val_acc: 0.3782\n",
      "Epoch 20/60\n",
      "360/360 [==============================] - 12s 32ms/step - loss: 1.0797 - acc: 0.4333 - val_loss: 1.0943 - val_acc: 0.3718\n",
      "Epoch 21/60\n",
      "360/360 [==============================] - 11s 30ms/step - loss: 1.0569 - acc: 0.4611 - val_loss: 1.0833 - val_acc: 0.4295\n",
      "Epoch 22/60\n",
      "360/360 [==============================] - 12s 33ms/step - loss: 1.0683 - acc: 0.4083 - val_loss: 1.0657 - val_acc: 0.4103\n",
      "Epoch 23/60\n",
      "360/360 [==============================] - 11s 31ms/step - loss: 1.0728 - acc: 0.4306 - val_loss: 1.0737 - val_acc: 0.4038\n",
      "Epoch 24/60\n",
      "360/360 [==============================] - 12s 32ms/step - loss: 1.0303 - acc: 0.5194 - val_loss: 1.1181 - val_acc: 0.4487\n",
      "Epoch 25/60\n",
      "360/360 [==============================] - 11s 31ms/step - loss: 1.1007 - acc: 0.3972 - val_loss: 1.0511 - val_acc: 0.4295\n",
      "Epoch 26/60\n",
      "360/360 [==============================] - 11s 31ms/step - loss: 1.0561 - acc: 0.4528 - val_loss: 1.0367 - val_acc: 0.4808\n",
      "Epoch 27/60\n",
      "360/360 [==============================] - 11s 32ms/step - loss: 1.0352 - acc: 0.4472 - val_loss: 1.0467 - val_acc: 0.4038\n",
      "Epoch 28/60\n",
      "360/360 [==============================] - 12s 32ms/step - loss: 1.0544 - acc: 0.4528 - val_loss: 1.0455 - val_acc: 0.3974\n",
      "Epoch 29/60\n",
      "360/360 [==============================] - 11s 31ms/step - loss: 0.9925 - acc: 0.5083 - val_loss: 1.0319 - val_acc: 0.4615\n",
      "Epoch 30/60\n",
      "360/360 [==============================] - 12s 33ms/step - loss: 1.0391 - acc: 0.4528 - val_loss: 1.0457 - val_acc: 0.4679\n",
      "Epoch 31/60\n",
      "360/360 [==============================] - 11s 32ms/step - loss: 1.0200 - acc: 0.5361 - val_loss: 1.0259 - val_acc: 0.4679\n",
      "Epoch 32/60\n",
      "360/360 [==============================] - 11s 31ms/step - loss: 0.9942 - acc: 0.5028 - val_loss: 1.0777 - val_acc: 0.3718\n",
      "Epoch 33/60\n",
      "360/360 [==============================] - 11s 32ms/step - loss: 0.9858 - acc: 0.5111 - val_loss: 0.9934 - val_acc: 0.4808\n",
      "Epoch 34/60\n",
      "360/360 [==============================] - 11s 32ms/step - loss: 0.9919 - acc: 0.4861 - val_loss: 1.0160 - val_acc: 0.4872\n",
      "Epoch 35/60\n",
      "360/360 [==============================] - 11s 31ms/step - loss: 0.9678 - acc: 0.5139 - val_loss: 1.0306 - val_acc: 0.4872\n",
      "Epoch 36/60\n",
      "360/360 [==============================] - 11s 31ms/step - loss: 0.9684 - acc: 0.5139 - val_loss: 1.0501 - val_acc: 0.3974\n",
      "Epoch 37/60\n",
      "360/360 [==============================] - 12s 32ms/step - loss: 0.9751 - acc: 0.5167 - val_loss: 0.9672 - val_acc: 0.5577\n",
      "Epoch 38/60\n",
      "360/360 [==============================] - 11s 31ms/step - loss: 1.0026 - acc: 0.5278 - val_loss: 0.9551 - val_acc: 0.5769\n",
      "Epoch 39/60\n",
      "360/360 [==============================] - 11s 32ms/step - loss: 0.9355 - acc: 0.5222 - val_loss: 1.0813 - val_acc: 0.3910\n",
      "Epoch 40/60\n",
      "360/360 [==============================] - 11s 31ms/step - loss: 1.0009 - acc: 0.4972 - val_loss: 0.9428 - val_acc: 0.5897\n",
      "Epoch 41/60\n",
      "360/360 [==============================] - 11s 31ms/step - loss: 0.8897 - acc: 0.5556 - val_loss: 0.9796 - val_acc: 0.4551\n",
      "Epoch 42/60\n",
      "360/360 [==============================] - 11s 32ms/step - loss: 0.8994 - acc: 0.5583 - val_loss: 0.9690 - val_acc: 0.5256\n",
      "Epoch 43/60\n",
      "360/360 [==============================] - 12s 32ms/step - loss: 0.9370 - acc: 0.5472 - val_loss: 0.9826 - val_acc: 0.4872\n",
      "Epoch 44/60\n",
      "360/360 [==============================] - 11s 30ms/step - loss: 0.8796 - acc: 0.5833 - val_loss: 0.9178 - val_acc: 0.5577\n",
      "Epoch 45/60\n",
      "360/360 [==============================] - 11s 31ms/step - loss: 0.9023 - acc: 0.5611 - val_loss: 0.9192 - val_acc: 0.5897\n",
      "Epoch 46/60\n",
      "360/360 [==============================] - 11s 32ms/step - loss: 0.8760 - acc: 0.5861 - val_loss: 0.9950 - val_acc: 0.4487\n",
      "Epoch 47/60\n",
      "360/360 [==============================] - 11s 32ms/step - loss: 0.8658 - acc: 0.5806 - val_loss: 0.9690 - val_acc: 0.5256\n",
      "Epoch 48/60\n",
      "360/360 [==============================] - 11s 31ms/step - loss: 0.8916 - acc: 0.5972 - val_loss: 0.8896 - val_acc: 0.6090\n",
      "Epoch 49/60\n",
      "360/360 [==============================] - 12s 33ms/step - loss: 0.8560 - acc: 0.6111 - val_loss: 0.8947 - val_acc: 0.6026\n",
      "Epoch 50/60\n",
      "360/360 [==============================] - 11s 31ms/step - loss: 0.8111 - acc: 0.6306 - val_loss: 0.9014 - val_acc: 0.6154\n",
      "Epoch 51/60\n",
      "360/360 [==============================] - 11s 30ms/step - loss: 0.8239 - acc: 0.6306 - val_loss: 0.8551 - val_acc: 0.6154\n",
      "Epoch 52/60\n",
      "360/360 [==============================] - 12s 32ms/step - loss: 0.8458 - acc: 0.6083 - val_loss: 0.8992 - val_acc: 0.5769\n",
      "Epoch 53/60\n",
      "360/360 [==============================] - 11s 32ms/step - loss: 0.8515 - acc: 0.6139 - val_loss: 0.8990 - val_acc: 0.5641\n",
      "Epoch 54/60\n",
      "360/360 [==============================] - 12s 32ms/step - loss: 0.7980 - acc: 0.6389 - val_loss: 0.8728 - val_acc: 0.5641\n",
      "Epoch 55/60\n",
      "360/360 [==============================] - 11s 32ms/step - loss: 0.8053 - acc: 0.6250 - val_loss: 1.1403 - val_acc: 0.4359\n",
      "Epoch 56/60\n",
      "360/360 [==============================] - 12s 32ms/step - loss: 0.8469 - acc: 0.5861 - val_loss: 0.8649 - val_acc: 0.5962\n",
      "Epoch 57/60\n",
      "360/360 [==============================] - 11s 31ms/step - loss: 0.7972 - acc: 0.6083 - val_loss: 0.9251 - val_acc: 0.5000\n",
      "Epoch 58/60\n",
      "360/360 [==============================] - 11s 31ms/step - loss: 0.8299 - acc: 0.5917 - val_loss: 0.8436 - val_acc: 0.6603\n",
      "Epoch 59/60\n",
      "360/360 [==============================] - 12s 32ms/step - loss: 0.8059 - acc: 0.6361 - val_loss: 0.9770 - val_acc: 0.5064\n",
      "Epoch 60/60\n",
      "360/360 [==============================] - 11s 32ms/step - loss: 0.7704 - acc: 0.6500 - val_loss: 0.8420 - val_acc: 0.6090\n"
     ]
    }
   ],
   "source": [
    "EPOCHS = 60\n",
    "history = model.fit(train_data, train_labels, epochs=EPOCHS, validation_data=(test_data, test_labels))"
   ]
  },
  {
   "cell_type": "code",
   "execution_count": 12,
   "metadata": {
    "scrolled": false
   },
   "outputs": [
    {
     "name": "stdout",
     "output_type": "stream",
     "text": [
      "Train on 360 samples, validate on 156 samples\n",
      "Epoch 1/60\n",
      "360/360 [==============================] - 12s 34ms/step - loss: 0.8083 - acc: 0.6111 - val_loss: 0.9826 - val_acc: 0.5192\n",
      "Epoch 2/60\n",
      "360/360 [==============================] - 11s 32ms/step - loss: 0.8183 - acc: 0.6083 - val_loss: 0.8265 - val_acc: 0.6346\n",
      "Epoch 3/60\n",
      "360/360 [==============================] - 11s 31ms/step - loss: 0.7183 - acc: 0.6778 - val_loss: 0.8705 - val_acc: 0.6410\n",
      "Epoch 4/60\n",
      "360/360 [==============================] - 12s 32ms/step - loss: 0.7202 - acc: 0.6694 - val_loss: 0.8304 - val_acc: 0.5769\n",
      "Epoch 5/60\n",
      "360/360 [==============================] - 11s 31ms/step - loss: 0.7639 - acc: 0.6611 - val_loss: 0.8656 - val_acc: 0.6218\n",
      "Epoch 6/60\n",
      "360/360 [==============================] - 11s 31ms/step - loss: 0.7177 - acc: 0.6778 - val_loss: 1.1735 - val_acc: 0.4679\n",
      "Epoch 7/60\n",
      "360/360 [==============================] - 11s 31ms/step - loss: 0.7231 - acc: 0.6861 - val_loss: 0.8793 - val_acc: 0.5962\n",
      "Epoch 8/60\n",
      "360/360 [==============================] - 11s 31ms/step - loss: 0.7186 - acc: 0.6917 - val_loss: 0.8627 - val_acc: 0.6026\n",
      "Epoch 9/60\n",
      "360/360 [==============================] - 11s 31ms/step - loss: 0.6721 - acc: 0.7056 - val_loss: 0.8699 - val_acc: 0.5641\n",
      "Epoch 10/60\n",
      "360/360 [==============================] - 11s 30ms/step - loss: 0.7257 - acc: 0.6833 - val_loss: 0.8092 - val_acc: 0.6603\n",
      "Epoch 11/60\n",
      "360/360 [==============================] - 11s 30ms/step - loss: 0.6812 - acc: 0.6750 - val_loss: 0.8018 - val_acc: 0.6603\n",
      "Epoch 12/60\n",
      "360/360 [==============================] - 12s 33ms/step - loss: 0.6632 - acc: 0.7167 - val_loss: 0.7542 - val_acc: 0.6795\n",
      "Epoch 13/60\n",
      "360/360 [==============================] - 11s 31ms/step - loss: 0.6130 - acc: 0.7250 - val_loss: 0.8678 - val_acc: 0.6026\n",
      "Epoch 14/60\n",
      "360/360 [==============================] - 11s 30ms/step - loss: 0.7140 - acc: 0.6806 - val_loss: 0.7959 - val_acc: 0.6731\n",
      "Epoch 15/60\n",
      "360/360 [==============================] - 11s 31ms/step - loss: 0.6409 - acc: 0.7250 - val_loss: 0.7989 - val_acc: 0.6474\n",
      "Epoch 16/60\n",
      "360/360 [==============================] - 11s 32ms/step - loss: 0.6787 - acc: 0.7056 - val_loss: 0.7943 - val_acc: 0.6474\n",
      "Epoch 17/60\n",
      "360/360 [==============================] - 11s 31ms/step - loss: 0.6525 - acc: 0.7306 - val_loss: 0.8738 - val_acc: 0.6026\n",
      "Epoch 18/60\n",
      "360/360 [==============================] - 11s 31ms/step - loss: 0.6657 - acc: 0.7250 - val_loss: 0.7309 - val_acc: 0.7179\n",
      "Epoch 19/60\n",
      "360/360 [==============================] - 11s 31ms/step - loss: 0.6237 - acc: 0.7250 - val_loss: 0.7949 - val_acc: 0.6603\n",
      "Epoch 20/60\n",
      "360/360 [==============================] - 11s 31ms/step - loss: 0.6546 - acc: 0.6972 - val_loss: 0.8760 - val_acc: 0.6154\n",
      "Epoch 21/60\n",
      "360/360 [==============================] - 12s 33ms/step - loss: 0.5863 - acc: 0.7444 - val_loss: 0.7852 - val_acc: 0.6410\n",
      "Epoch 22/60\n",
      "360/360 [==============================] - 12s 33ms/step - loss: 0.5868 - acc: 0.7444 - val_loss: 0.7565 - val_acc: 0.7051\n",
      "Epoch 23/60\n",
      "360/360 [==============================] - 11s 31ms/step - loss: 0.6294 - acc: 0.7333 - val_loss: 0.7605 - val_acc: 0.6987\n",
      "Epoch 24/60\n",
      "360/360 [==============================] - 11s 31ms/step - loss: 0.5602 - acc: 0.7417 - val_loss: 0.8043 - val_acc: 0.6538\n",
      "Epoch 25/60\n",
      "360/360 [==============================] - 12s 32ms/step - loss: 0.6638 - acc: 0.6917 - val_loss: 0.8470 - val_acc: 0.6410\n",
      "Epoch 26/60\n",
      "360/360 [==============================] - 12s 32ms/step - loss: 0.5996 - acc: 0.7333 - val_loss: 0.8124 - val_acc: 0.6987\n",
      "Epoch 27/60\n",
      "360/360 [==============================] - 11s 31ms/step - loss: 0.5592 - acc: 0.7806 - val_loss: 0.7575 - val_acc: 0.7244\n",
      "Epoch 28/60\n",
      "360/360 [==============================] - 11s 30ms/step - loss: 0.5170 - acc: 0.7778 - val_loss: 0.7337 - val_acc: 0.6603\n",
      "Epoch 29/60\n",
      "360/360 [==============================] - 11s 31ms/step - loss: 0.5288 - acc: 0.7722 - val_loss: 0.7716 - val_acc: 0.7179\n",
      "Epoch 30/60\n",
      "360/360 [==============================] - 11s 32ms/step - loss: 0.5750 - acc: 0.7444 - val_loss: 0.7470 - val_acc: 0.6923\n",
      "Epoch 31/60\n",
      "360/360 [==============================] - 11s 31ms/step - loss: 0.5765 - acc: 0.7472 - val_loss: 0.7576 - val_acc: 0.6667\n",
      "Epoch 32/60\n",
      "360/360 [==============================] - 11s 30ms/step - loss: 0.4571 - acc: 0.8194 - val_loss: 0.7230 - val_acc: 0.6987\n",
      "Epoch 33/60\n",
      "360/360 [==============================] - 11s 31ms/step - loss: 0.5315 - acc: 0.7722 - val_loss: 0.7508 - val_acc: 0.6923\n",
      "Epoch 34/60\n",
      "360/360 [==============================] - 12s 32ms/step - loss: 0.5104 - acc: 0.8139 - val_loss: 0.7276 - val_acc: 0.7244\n",
      "Epoch 35/60\n",
      "360/360 [==============================] - 11s 31ms/step - loss: 0.5643 - acc: 0.7528 - val_loss: 0.8269 - val_acc: 0.6731\n",
      "Epoch 36/60\n",
      "360/360 [==============================] - 11s 32ms/step - loss: 0.5481 - acc: 0.7778 - val_loss: 0.7080 - val_acc: 0.6923\n",
      "Epoch 37/60\n",
      "360/360 [==============================] - 11s 30ms/step - loss: 0.5182 - acc: 0.7472 - val_loss: 0.6645 - val_acc: 0.7500\n",
      "Epoch 38/60\n",
      "360/360 [==============================] - 11s 31ms/step - loss: 0.4573 - acc: 0.8056 - val_loss: 0.6726 - val_acc: 0.7308\n",
      "Epoch 39/60\n",
      "360/360 [==============================] - 11s 32ms/step - loss: 0.4686 - acc: 0.8333 - val_loss: 0.7075 - val_acc: 0.7372\n",
      "Epoch 40/60\n",
      "360/360 [==============================] - 11s 31ms/step - loss: 0.5189 - acc: 0.7833 - val_loss: 0.7364 - val_acc: 0.6987\n",
      "Epoch 41/60\n",
      "360/360 [==============================] - 11s 31ms/step - loss: 0.5068 - acc: 0.7639 - val_loss: 0.7566 - val_acc: 0.7051\n",
      "Epoch 42/60\n",
      "360/360 [==============================] - 11s 31ms/step - loss: 0.4507 - acc: 0.7944 - val_loss: 0.7466 - val_acc: 0.6987\n",
      "Epoch 43/60\n",
      "360/360 [==============================] - 11s 31ms/step - loss: 0.4521 - acc: 0.8333 - val_loss: 0.6296 - val_acc: 0.7756\n",
      "Epoch 44/60\n",
      "360/360 [==============================] - 11s 31ms/step - loss: 0.5216 - acc: 0.7722 - val_loss: 0.6620 - val_acc: 0.7372\n",
      "Epoch 45/60\n",
      "360/360 [==============================] - 12s 32ms/step - loss: 0.4675 - acc: 0.8028 - val_loss: 0.6998 - val_acc: 0.7500\n",
      "Epoch 46/60\n",
      "360/360 [==============================] - 11s 31ms/step - loss: 0.4304 - acc: 0.8306 - val_loss: 0.7306 - val_acc: 0.7564\n",
      "Epoch 47/60\n",
      "360/360 [==============================] - 11s 32ms/step - loss: 0.4968 - acc: 0.7778 - val_loss: 0.6968 - val_acc: 0.7821\n",
      "Epoch 48/60\n",
      "360/360 [==============================] - 12s 34ms/step - loss: 0.4512 - acc: 0.7833 - val_loss: 0.8998 - val_acc: 0.6282\n",
      "Epoch 49/60\n",
      "360/360 [==============================] - 12s 32ms/step - loss: 0.4707 - acc: 0.8083 - val_loss: 0.7441 - val_acc: 0.7372\n",
      "Epoch 50/60\n",
      "360/360 [==============================] - 11s 32ms/step - loss: 0.4818 - acc: 0.7917 - val_loss: 0.6980 - val_acc: 0.7372\n",
      "Epoch 51/60\n",
      "360/360 [==============================] - 13s 35ms/step - loss: 0.4430 - acc: 0.8083 - val_loss: 0.6828 - val_acc: 0.8013\n",
      "Epoch 52/60\n",
      "360/360 [==============================] - 10s 28ms/step - loss: 0.4003 - acc: 0.8556 - val_loss: 0.7248 - val_acc: 0.7436\n",
      "Epoch 53/60\n",
      "360/360 [==============================] - 11s 30ms/step - loss: 0.4126 - acc: 0.8333 - val_loss: 0.6503 - val_acc: 0.8013\n",
      "Epoch 54/60\n",
      "360/360 [==============================] - 11s 31ms/step - loss: 0.4276 - acc: 0.8056 - val_loss: 0.7932 - val_acc: 0.6923\n",
      "Epoch 55/60\n",
      "360/360 [==============================] - 11s 30ms/step - loss: 0.3965 - acc: 0.8389 - val_loss: 0.6318 - val_acc: 0.8013\n",
      "Epoch 56/60\n",
      "360/360 [==============================] - 10s 29ms/step - loss: 0.4488 - acc: 0.8306 - val_loss: 0.7017 - val_acc: 0.7756\n",
      "Epoch 57/60\n",
      "360/360 [==============================] - 10s 29ms/step - loss: 0.4234 - acc: 0.8472 - val_loss: 0.7068 - val_acc: 0.7692\n",
      "Epoch 58/60\n",
      "360/360 [==============================] - 11s 30ms/step - loss: 0.4660 - acc: 0.8278 - val_loss: 0.6744 - val_acc: 0.8013\n",
      "Epoch 59/60\n",
      "360/360 [==============================] - 11s 29ms/step - loss: 0.3677 - acc: 0.8583 - val_loss: 0.8450 - val_acc: 0.7308\n",
      "Epoch 60/60\n",
      "360/360 [==============================] - 11s 29ms/step - loss: 0.4391 - acc: 0.8389 - val_loss: 0.6586 - val_acc: 0.8013\n"
     ]
    }
   ],
   "source": [
    "EPOCHS = 60\n",
    "history = model.fit(train_data, train_labels, epochs=EPOCHS, validation_data=(test_data, test_labels))"
   ]
  },
  {
   "cell_type": "code",
   "execution_count": 13,
   "metadata": {},
   "outputs": [
    {
     "name": "stdout",
     "output_type": "stream",
     "text": [
      "Train on 360 samples, validate on 156 samples\n",
      "Epoch 1/30\n",
      "360/360 [==============================] - 11s 31ms/step - loss: 0.4190 - acc: 0.8167 - val_loss: 0.6413 - val_acc: 0.8013\n",
      "Epoch 2/30\n",
      "360/360 [==============================] - 11s 30ms/step - loss: 0.3775 - acc: 0.8361 - val_loss: 1.0200 - val_acc: 0.6154\n",
      "Epoch 3/30\n",
      "360/360 [==============================] - 10s 29ms/step - loss: 0.3931 - acc: 0.8167 - val_loss: 0.7082 - val_acc: 0.7564\n",
      "Epoch 4/30\n",
      "360/360 [==============================] - 10s 28ms/step - loss: 0.4184 - acc: 0.8472 - val_loss: 0.6354 - val_acc: 0.8141\n",
      "Epoch 5/30\n",
      "360/360 [==============================] - 11s 30ms/step - loss: 0.3729 - acc: 0.8278 - val_loss: 0.7914 - val_acc: 0.7051\n",
      "Epoch 6/30\n",
      "360/360 [==============================] - 11s 30ms/step - loss: 0.3686 - acc: 0.8444 - val_loss: 0.6464 - val_acc: 0.7692\n",
      "Epoch 7/30\n",
      "360/360 [==============================] - 11s 29ms/step - loss: 0.3457 - acc: 0.8667 - val_loss: 0.7087 - val_acc: 0.7756\n",
      "Epoch 8/30\n",
      "360/360 [==============================] - 11s 29ms/step - loss: 0.3693 - acc: 0.8500 - val_loss: 0.6365 - val_acc: 0.7885\n",
      "Epoch 9/30\n",
      "360/360 [==============================] - 11s 29ms/step - loss: 0.3841 - acc: 0.8500 - val_loss: 0.6807 - val_acc: 0.7692\n",
      "Epoch 10/30\n",
      "360/360 [==============================] - 11s 29ms/step - loss: 0.3719 - acc: 0.8472 - val_loss: 0.7097 - val_acc: 0.7628\n",
      "Epoch 11/30\n",
      "360/360 [==============================] - 11s 30ms/step - loss: 0.3467 - acc: 0.8611 - val_loss: 0.7264 - val_acc: 0.7756\n",
      "Epoch 12/30\n",
      "360/360 [==============================] - 11s 29ms/step - loss: 0.3708 - acc: 0.8472 - val_loss: 0.6630 - val_acc: 0.8013\n",
      "Epoch 13/30\n",
      "360/360 [==============================] - 10s 29ms/step - loss: 0.3683 - acc: 0.8667 - val_loss: 0.7164 - val_acc: 0.7436\n",
      "Epoch 14/30\n",
      "360/360 [==============================] - 10s 29ms/step - loss: 0.4064 - acc: 0.8194 - val_loss: 0.6388 - val_acc: 0.8013\n",
      "Epoch 15/30\n",
      "360/360 [==============================] - 11s 30ms/step - loss: 0.3967 - acc: 0.8583 - val_loss: 0.6212 - val_acc: 0.8141\n",
      "Epoch 16/30\n",
      "360/360 [==============================] - 11s 29ms/step - loss: 0.3494 - acc: 0.8417 - val_loss: 0.6175 - val_acc: 0.7949\n",
      "Epoch 17/30\n",
      "360/360 [==============================] - 11s 29ms/step - loss: 0.3094 - acc: 0.8778 - val_loss: 0.7343 - val_acc: 0.7756\n",
      "Epoch 18/30\n",
      "360/360 [==============================] - 11s 29ms/step - loss: 0.2863 - acc: 0.8750 - val_loss: 0.6801 - val_acc: 0.8013\n",
      "Epoch 19/30\n",
      "360/360 [==============================] - 11s 30ms/step - loss: 0.4033 - acc: 0.8556 - val_loss: 0.6490 - val_acc: 0.8269\n",
      "Epoch 20/30\n",
      "360/360 [==============================] - 10s 29ms/step - loss: 0.3079 - acc: 0.8639 - val_loss: 0.8363 - val_acc: 0.7308\n",
      "Epoch 21/30\n",
      "360/360 [==============================] - 11s 29ms/step - loss: 0.3426 - acc: 0.8639 - val_loss: 0.6621 - val_acc: 0.7821\n",
      "Epoch 22/30\n",
      "360/360 [==============================] - 11s 30ms/step - loss: 0.3380 - acc: 0.8583 - val_loss: 0.5784 - val_acc: 0.8397\n",
      "Epoch 23/30\n",
      "360/360 [==============================] - 11s 30ms/step - loss: 0.2759 - acc: 0.8917 - val_loss: 0.7178 - val_acc: 0.7821\n",
      "Epoch 24/30\n",
      "360/360 [==============================] - 10s 29ms/step - loss: 0.3284 - acc: 0.8750 - val_loss: 0.6752 - val_acc: 0.7564\n",
      "Epoch 25/30\n",
      "360/360 [==============================] - 10s 28ms/step - loss: 0.3406 - acc: 0.8611 - val_loss: 0.6485 - val_acc: 0.8205\n",
      "Epoch 26/30\n",
      "360/360 [==============================] - 10s 29ms/step - loss: 0.2963 - acc: 0.8861 - val_loss: 0.7004 - val_acc: 0.7885\n",
      "Epoch 27/30\n",
      "360/360 [==============================] - 11s 30ms/step - loss: 0.3315 - acc: 0.8750 - val_loss: 0.7931 - val_acc: 0.7500\n",
      "Epoch 28/30\n",
      "360/360 [==============================] - 11s 31ms/step - loss: 0.2803 - acc: 0.8889 - val_loss: 0.6506 - val_acc: 0.8205\n",
      "Epoch 29/30\n",
      "360/360 [==============================] - 11s 30ms/step - loss: 0.3025 - acc: 0.8861 - val_loss: 0.6943 - val_acc: 0.7821\n",
      "Epoch 30/30\n",
      "360/360 [==============================] - 11s 30ms/step - loss: 0.2838 - acc: 0.8944 - val_loss: 0.6109 - val_acc: 0.8333\n"
     ]
    }
   ],
   "source": [
    "EPOCHS = 30\n",
    "history = model.fit(train_data, train_labels, epochs=EPOCHS, validation_data=(test_data, test_labels))"
   ]
  },
  {
   "cell_type": "code",
   "execution_count": 14,
   "metadata": {
    "scrolled": false
   },
   "outputs": [
    {
     "name": "stdout",
     "output_type": "stream",
     "text": [
      "Train on 360 samples, validate on 156 samples\n",
      "Epoch 1/60\n",
      "360/360 [==============================] - 12s 32ms/step - loss: 0.2788 - acc: 0.8750 - val_loss: 0.6157 - val_acc: 0.7949\n",
      "Epoch 2/60\n",
      "360/360 [==============================] - 11s 30ms/step - loss: 0.3088 - acc: 0.8583 - val_loss: 0.6430 - val_acc: 0.8141\n",
      "Epoch 3/60\n",
      "360/360 [==============================] - 11s 30ms/step - loss: 0.3003 - acc: 0.8778 - val_loss: 0.9061 - val_acc: 0.6795\n",
      "Epoch 4/60\n",
      "360/360 [==============================] - 11s 29ms/step - loss: 0.2926 - acc: 0.8889 - val_loss: 0.6678 - val_acc: 0.8397\n",
      "Epoch 5/60\n",
      "360/360 [==============================] - 11s 30ms/step - loss: 0.2274 - acc: 0.9083 - val_loss: 0.8382 - val_acc: 0.7564\n",
      "Epoch 6/60\n",
      "360/360 [==============================] - 10s 29ms/step - loss: 0.2753 - acc: 0.8750 - val_loss: 0.6676 - val_acc: 0.7949\n",
      "Epoch 7/60\n",
      "360/360 [==============================] - 10s 29ms/step - loss: 0.3509 - acc: 0.8583 - val_loss: 0.6322 - val_acc: 0.8141\n",
      "Epoch 8/60\n",
      "360/360 [==============================] - 11s 31ms/step - loss: 0.2240 - acc: 0.8972 - val_loss: 0.7330 - val_acc: 0.7949\n",
      "Epoch 9/60\n",
      "360/360 [==============================] - 10s 29ms/step - loss: 0.2876 - acc: 0.8806 - val_loss: 0.6553 - val_acc: 0.8205\n",
      "Epoch 10/60\n",
      "360/360 [==============================] - 11s 30ms/step - loss: 0.2289 - acc: 0.9194 - val_loss: 0.8252 - val_acc: 0.7564\n",
      "Epoch 11/60\n",
      "360/360 [==============================] - 11s 31ms/step - loss: 0.2700 - acc: 0.8944 - val_loss: 0.7034 - val_acc: 0.8205\n",
      "Epoch 12/60\n",
      "360/360 [==============================] - 11s 29ms/step - loss: 0.2665 - acc: 0.9000 - val_loss: 0.6918 - val_acc: 0.8205\n",
      "Epoch 13/60\n",
      "360/360 [==============================] - 10s 29ms/step - loss: 0.2429 - acc: 0.9139 - val_loss: 0.6749 - val_acc: 0.8397\n",
      "Epoch 14/60\n",
      "360/360 [==============================] - 12s 33ms/step - loss: 0.2282 - acc: 0.9194 - val_loss: 0.6963 - val_acc: 0.8205\n",
      "Epoch 15/60\n",
      "360/360 [==============================] - 10s 29ms/step - loss: 0.1939 - acc: 0.9222 - val_loss: 0.6628 - val_acc: 0.8397\n",
      "Epoch 16/60\n",
      "360/360 [==============================] - 11s 29ms/step - loss: 0.2222 - acc: 0.9222 - val_loss: 0.6512 - val_acc: 0.8333\n",
      "Epoch 17/60\n",
      "360/360 [==============================] - 11s 30ms/step - loss: 0.2580 - acc: 0.8917 - val_loss: 0.7441 - val_acc: 0.7949\n",
      "Epoch 18/60\n",
      "360/360 [==============================] - 11s 31ms/step - loss: 0.2366 - acc: 0.9167 - val_loss: 0.6708 - val_acc: 0.8013\n",
      "Epoch 19/60\n",
      "360/360 [==============================] - 11s 31ms/step - loss: 0.3130 - acc: 0.8667 - val_loss: 0.6564 - val_acc: 0.8269\n",
      "Epoch 20/60\n",
      "360/360 [==============================] - 10s 29ms/step - loss: 0.1950 - acc: 0.9000 - val_loss: 0.8980 - val_acc: 0.7372\n",
      "Epoch 21/60\n",
      "360/360 [==============================] - 10s 29ms/step - loss: 0.3000 - acc: 0.8722 - val_loss: 0.8156 - val_acc: 0.7756\n",
      "Epoch 22/60\n",
      "360/360 [==============================] - 11s 29ms/step - loss: 0.2437 - acc: 0.9056 - val_loss: 0.6577 - val_acc: 0.8141\n",
      "Epoch 23/60\n",
      "360/360 [==============================] - 10s 29ms/step - loss: 0.2483 - acc: 0.9083 - val_loss: 0.6539 - val_acc: 0.8397\n",
      "Epoch 24/60\n",
      "360/360 [==============================] - 11s 30ms/step - loss: 0.2197 - acc: 0.9250 - val_loss: 0.6991 - val_acc: 0.8205\n",
      "Epoch 25/60\n",
      "360/360 [==============================] - 11s 29ms/step - loss: 0.2260 - acc: 0.9139 - val_loss: 0.8201 - val_acc: 0.7885\n",
      "Epoch 26/60\n",
      "360/360 [==============================] - 11s 30ms/step - loss: 0.3083 - acc: 0.9028 - val_loss: 0.5910 - val_acc: 0.8013\n",
      "Epoch 27/60\n",
      "360/360 [==============================] - 11s 30ms/step - loss: 0.2277 - acc: 0.9139 - val_loss: 0.6664 - val_acc: 0.8141\n",
      "Epoch 28/60\n",
      "360/360 [==============================] - 11s 29ms/step - loss: 0.2324 - acc: 0.9111 - val_loss: 0.8412 - val_acc: 0.7821\n",
      "Epoch 29/60\n",
      "360/360 [==============================] - 10s 28ms/step - loss: 0.2940 - acc: 0.8861 - val_loss: 0.6670 - val_acc: 0.8141\n",
      "Epoch 30/60\n",
      "360/360 [==============================] - 10s 29ms/step - loss: 0.2537 - acc: 0.9278 - val_loss: 0.6761 - val_acc: 0.8077\n",
      "Epoch 31/60\n",
      "360/360 [==============================] - 10s 28ms/step - loss: 0.2141 - acc: 0.9389 - val_loss: 0.6428 - val_acc: 0.8333\n",
      "Epoch 32/60\n",
      "360/360 [==============================] - 11s 30ms/step - loss: 0.1614 - acc: 0.9250 - val_loss: 0.6900 - val_acc: 0.8269\n",
      "Epoch 33/60\n",
      "360/360 [==============================] - 10s 29ms/step - loss: 0.2183 - acc: 0.9111 - val_loss: 0.7249 - val_acc: 0.8141\n",
      "Epoch 34/60\n",
      "360/360 [==============================] - 11s 30ms/step - loss: 0.2142 - acc: 0.9056 - val_loss: 0.9608 - val_acc: 0.7628\n",
      "Epoch 35/60\n",
      "360/360 [==============================] - 11s 29ms/step - loss: 0.2571 - acc: 0.9167 - val_loss: 0.8097 - val_acc: 0.7949\n",
      "Epoch 36/60\n",
      "360/360 [==============================] - 11s 29ms/step - loss: 0.1907 - acc: 0.9306 - val_loss: 0.7168 - val_acc: 0.8333\n",
      "Epoch 37/60\n",
      "360/360 [==============================] - 10s 29ms/step - loss: 0.3236 - acc: 0.8889 - val_loss: 0.8086 - val_acc: 0.7756\n",
      "Epoch 38/60\n",
      "360/360 [==============================] - 11s 29ms/step - loss: 0.1378 - acc: 0.9333 - val_loss: 0.8936 - val_acc: 0.7821\n",
      "Epoch 39/60\n",
      "360/360 [==============================] - 11s 29ms/step - loss: 0.2073 - acc: 0.9278 - val_loss: 0.7861 - val_acc: 0.8269\n",
      "Epoch 40/60\n",
      "360/360 [==============================] - 10s 29ms/step - loss: 0.1986 - acc: 0.9250 - val_loss: 0.7242 - val_acc: 0.8269\n",
      "Epoch 41/60\n",
      "360/360 [==============================] - 11s 31ms/step - loss: 0.1955 - acc: 0.9111 - val_loss: 0.8004 - val_acc: 0.8077\n",
      "Epoch 42/60\n",
      "360/360 [==============================] - 11s 30ms/step - loss: 0.1950 - acc: 0.9306 - val_loss: 0.7191 - val_acc: 0.8141\n",
      "Epoch 43/60\n",
      "360/360 [==============================] - 11s 29ms/step - loss: 0.2115 - acc: 0.9222 - val_loss: 0.7892 - val_acc: 0.7756\n",
      "Epoch 44/60\n",
      "360/360 [==============================] - 10s 29ms/step - loss: 0.1692 - acc: 0.9361 - val_loss: 0.6930 - val_acc: 0.8333\n",
      "Epoch 45/60\n",
      "360/360 [==============================] - 10s 29ms/step - loss: 0.1588 - acc: 0.9361 - val_loss: 0.7654 - val_acc: 0.8269\n",
      "Epoch 46/60\n",
      "360/360 [==============================] - 11s 29ms/step - loss: 0.1340 - acc: 0.9556 - val_loss: 0.7901 - val_acc: 0.8333\n",
      "Epoch 47/60\n",
      "360/360 [==============================] - 11s 30ms/step - loss: 0.2660 - acc: 0.9222 - val_loss: 0.6845 - val_acc: 0.8333\n",
      "Epoch 48/60\n",
      "360/360 [==============================] - 11s 29ms/step - loss: 0.1915 - acc: 0.9250 - val_loss: 0.6758 - val_acc: 0.8397\n",
      "Epoch 49/60\n",
      "360/360 [==============================] - 10s 29ms/step - loss: 0.2321 - acc: 0.9278 - val_loss: 0.7285 - val_acc: 0.8462\n",
      "Epoch 50/60\n",
      "360/360 [==============================] - 11s 29ms/step - loss: 0.2364 - acc: 0.9333 - val_loss: 0.8523 - val_acc: 0.8013\n",
      "Epoch 51/60\n",
      "360/360 [==============================] - 10s 29ms/step - loss: 0.1191 - acc: 0.9500 - val_loss: 0.7769 - val_acc: 0.8462\n",
      "Epoch 52/60\n",
      "360/360 [==============================] - 11s 30ms/step - loss: 0.1906 - acc: 0.9389 - val_loss: 0.7692 - val_acc: 0.8269\n",
      "Epoch 53/60\n",
      "360/360 [==============================] - 11s 30ms/step - loss: 0.1884 - acc: 0.9278 - val_loss: 0.8844 - val_acc: 0.8141\n",
      "Epoch 54/60\n",
      "360/360 [==============================] - 10s 28ms/step - loss: 0.1740 - acc: 0.9472 - val_loss: 0.7577 - val_acc: 0.8205\n",
      "Epoch 55/60\n",
      "360/360 [==============================] - 10s 28ms/step - loss: 0.1848 - acc: 0.9278 - val_loss: 0.8029 - val_acc: 0.8013\n",
      "Epoch 56/60\n",
      "360/360 [==============================] - 11s 29ms/step - loss: 0.1510 - acc: 0.9417 - val_loss: 0.7925 - val_acc: 0.8077\n",
      "Epoch 57/60\n",
      "360/360 [==============================] - 11s 29ms/step - loss: 0.1489 - acc: 0.9472 - val_loss: 0.7477 - val_acc: 0.8141\n",
      "Epoch 58/60\n",
      "360/360 [==============================] - 11s 30ms/step - loss: 0.1729 - acc: 0.9444 - val_loss: 0.7549 - val_acc: 0.8205\n",
      "Epoch 59/60\n",
      "360/360 [==============================] - 11s 29ms/step - loss: 0.1666 - acc: 0.9417 - val_loss: 0.7759 - val_acc: 0.8077\n",
      "Epoch 60/60\n",
      "360/360 [==============================] - 10s 29ms/step - loss: 0.2199 - acc: 0.9250 - val_loss: 0.7264 - val_acc: 0.8205\n"
     ]
    }
   ],
   "source": [
    "EPOCHS = 60\n",
    "history = model.fit(train_data, train_labels, epochs=EPOCHS, validation_data=(test_data, test_labels))"
   ]
  },
  {
   "cell_type": "code",
   "execution_count": 15,
   "metadata": {},
   "outputs": [
    {
     "name": "stdout",
     "output_type": "stream",
     "text": [
      "dict_keys(['val_loss', 'val_acc', 'loss', 'acc'])\n"
     ]
    },
    {
     "data": {
      "image/png": "[encoded data removed]",
      "text/plain": [
       "<matplotlib.figure.Figure at 0x25a102e6780>"
      ]
     },
     "metadata": {},
     "output_type": "display_data"
    },
    {
     "data": {
      "image/png": "[encoded data removed]",
      "text/plain": [
       "<matplotlib.figure.Figure at 0x25a102db470>"
      ]
     },
     "metadata": {},
     "output_type": "display_data"
    }
   ],
   "source": [
    "print(history.history.keys())\n",
    "\n",
    "# Plot training & validation accuracy values\n",
    "plt.plot(history.history['acc'])\n",
    "plt.plot(history.history['val_acc'])\n",
    "\n",
    "plt.title('Model accuracy')\n",
    "plt.ylabel('Accuracy')\n",
    "plt.xlabel('Epoch')\n",
    "plt.legend(['Train', 'Test'], loc='upper left')\n",
    "plt.show()\n",
    "\n",
    "# Plot training & validation loss values\n",
    "plt.plot(history.history['loss'])\n",
    "plt.plot(history.history['val_loss'])\n",
    "plt.title('Model loss')\n",
    "plt.ylabel('Loss')\n",
    "plt.xlabel('Epoch')\n",
    "plt.legend(['Train', 'Test'], loc='upper left')\n",
    "plt.show()"
   ]
  },
  {
   "cell_type": "markdown",
   "metadata": {},
   "source": [
    "## Save the model"
   ]
  },
  {
   "cell_type": "code",
   "execution_count": 16,
   "metadata": {},
   "outputs": [],
   "source": [
    "import datetime\n",
    "\n",
    "dt = datetime.datetime.today().strftime('%Y%m%d%H%M%S')\n",
    "filename = 'rock_paper_scissors_cnn_{}.h5'.format(dt)\n",
    "model.save(filename)"
   ]
  },
  {
   "cell_type": "markdown",
   "metadata": {},
   "source": [
    "## Load the model"
   ]
  },
  {
   "cell_type": "code",
   "execution_count": 17,
   "metadata": {},
   "outputs": [],
   "source": [
    "del model\n",
    "model = models.load_model(filename)"
   ]
  },
  {
   "cell_type": "markdown",
   "metadata": {
    "colab_type": "text",
    "id": "j6con4C3lKC1"
   },
   "source": [
    "## Confirmation"
   ]
  },
  {
   "cell_type": "code",
   "execution_count": 18,
   "metadata": {
    "colab": {
     "base_uri": "https://localhost:8080/",
     "height": 34
    },
    "colab_type": "code",
    "id": "4oZYLLij69wU",
    "outputId": "b37a4b8a-2c80-411f-d8a9-5df1c6dbfe22"
   },
   "outputs": [
    {
     "data": {
      "text/plain": [
       "(360, 32, 32, 3)"
      ]
     },
     "execution_count": 18,
     "metadata": {},
     "output_type": "execute_result"
    }
   ],
   "source": [
    "import numpy as np\n",
    "import matplotlib.pyplot as plt\n",
    "train_data.shape"
   ]
  },
  {
   "cell_type": "code",
   "execution_count": 19,
   "metadata": {
    "colab": {
     "base_uri": "https://localhost:8080/",
     "height": 193
    },
    "colab_type": "code",
    "id": "zSxXE9FgRBdJ",
    "outputId": "f3a53efe-e99f-4572-f9b4-1bf3c39c77ec"
   },
   "outputs": [],
   "source": [
    "layer_outputs = [layer.output for layer in model.layers]\n",
    "#layer_outputs"
   ]
  },
  {
   "cell_type": "code",
   "execution_count": 20,
   "metadata": {
    "colab": {
     "base_uri": "https://localhost:8080/",
     "height": 34
    },
    "colab_type": "code",
    "id": "dcw7yHKrRkPD",
    "outputId": "a3ed5441-ae48-4635-bf07-ac5060030608"
   },
   "outputs": [],
   "source": [
    "activation_model = models.Model(inputs=model.input, outputs=layer_outputs)\n",
    "activations = activation_model.predict(test_data)\n",
    "#activations[0][0,:,:,0].shape"
   ]
  },
  {
   "cell_type": "code",
   "execution_count": 21,
   "metadata": {},
   "outputs": [
    {
     "data": {
      "text/plain": [
       "['paper', 'rock', 'scissors']"
      ]
     },
     "execution_count": 21,
     "metadata": {},
     "output_type": "execute_result"
    }
   ],
   "source": [
    "class_labels"
   ]
  },
  {
   "cell_type": "code",
   "execution_count": 22,
   "metadata": {
    "colab": {
     "base_uri": "https://localhost:8080/",
     "height": 193
    },
    "colab_type": "code",
    "id": "ccSNAwGKhRn9",
    "outputId": "0ad22e12-713b-4b07-e17b-45d39ff1b80b"
   },
   "outputs": [
    {
     "data": {
      "text/plain": [
       "array([[99,  0,  0],\n",
       "       [ 0, 99,  0],\n",
       "       [87,  5,  7],\n",
       "       [66,  7, 26],\n",
       "       [ 0, 99,  0],\n",
       "       [ 2, 97,  0],\n",
       "       [ 0, 99,  0],\n",
       "       [51,  0, 47],\n",
       "       [ 0, 99,  0],\n",
       "       [ 1, 98,  0]])"
      ]
     },
     "execution_count": 22,
     "metadata": {},
     "output_type": "execute_result"
    }
   ],
   "source": [
    "(activations[-1][:10]*100).astype(int)"
   ]
  },
  {
   "cell_type": "code",
   "execution_count": 23,
   "metadata": {
    "colab": {
     "base_uri": "https://localhost:8080/",
     "height": 193
    },
    "colab_type": "code",
    "id": "RoE0nxtuiGIN",
    "outputId": "154437a8-ab72-46f4-f42c-3e6464af47d0"
   },
   "outputs": [
    {
     "data": {
      "text/plain": [
       "array([[1, 0, 0],\n",
       "       [0, 1, 0],\n",
       "       [1, 0, 0],\n",
       "       [1, 0, 0],\n",
       "       [0, 1, 0],\n",
       "       [1, 0, 0],\n",
       "       [0, 1, 0],\n",
       "       [0, 0, 1],\n",
       "       [0, 1, 0],\n",
       "       [0, 0, 1]])"
      ]
     },
     "execution_count": 23,
     "metadata": {},
     "output_type": "execute_result"
    }
   ],
   "source": [
    "test_labels[:10].astype(int)"
   ]
  },
  {
   "cell_type": "code",
   "execution_count": 24,
   "metadata": {},
   "outputs": [],
   "source": [
    "def plot_layer(activations, sample, layer):\n",
    "    a = activations[layer].shape\n",
    "    rows = int(a[3]/4)\n",
    "    fig, axarr = plt.subplots(rows, 4, figsize=[20,15])\n",
    "    for i in range(a[3]):\n",
    "        row = int(i/4)\n",
    "        x, y = row, i-4*row\n",
    "        axarr[x, y].imshow(activations[layer][sample, :, :, i])\n",
    "        axarr[x, y].set_xticks([])\n",
    "        axarr[x, y].set_yticks([])"
   ]
  },
  {
   "cell_type": "code",
   "execution_count": 25,
   "metadata": {},
   "outputs": [
    {
     "data": {
      "text/plain": [
       "'rock'"
      ]
     },
     "execution_count": 25,
     "metadata": {},
     "output_type": "execute_result"
    },
    {
     "data": {
      "image/png": "[encoded data removed]",
      "text/plain": [
       "<matplotlib.figure.Figure at 0x25a0f73c6d8>"
      ]
     },
     "metadata": {},
     "output_type": "display_data"
    }
   ],
   "source": [
    "image_number = 22\n",
    "\n",
    "plt.imshow(test_data[image_number,:,:,:])\n",
    "class_labels[np.argmax(test_labels[image_number])]"
   ]
  },
  {
   "cell_type": "code",
   "execution_count": 26,
   "metadata": {},
   "outputs": [
    {
     "data": {
      "image/png": "[encoded data removed]",
      "text/plain": [
       "<matplotlib.figure.Figure at 0x25a11422cf8>"
      ]
     },
     "metadata": {},
     "output_type": "display_data"
    }
   ],
   "source": [
    "plot_layer(activations, image_number, 1)"
   ]
  },
  {
   "cell_type": "code",
   "execution_count": 27,
   "metadata": {},
   "outputs": [
    {
     "data": {
      "image/png": "[encoded data removed]",
      "text/plain": [
       "<matplotlib.figure.Figure at 0x25a13102c18>"
      ]
     },
     "metadata": {},
     "output_type": "display_data"
    }
   ],
   "source": [
    "plot_layer(activations, image_number, 5)"
   ]
  },
  {
   "cell_type": "code",
   "execution_count": null,
   "metadata": {},
   "outputs": [],
   "source": []
  }
 ],
 "metadata": {
  "colab": {
   "collapsed_sections": [],
   "name": "CNN for AED",
   "provenance": [],
   "version": "0.3.2"
  },
  "kernelspec": {
   "display_name": "Python 3",
   "language": "python",
   "name": "python3"
  },
  "language_info": {
   "codemirror_mode": {
    "name": "ipython",
    "version": 3
   },
   "file_extension": ".py",
   "mimetype": "text/x-python",
   "name": "python",
   "nbconvert_exporter": "python",
   "pygments_lexer": "ipython3",
   "version": "3.6.4"
  }
 },
 "nbformat": 4,
 "nbformat_minor": 1
}
