{
 "cells": [
  {
   "cell_type": "markdown",
   "metadata": {
    "colab_type": "text",
    "id": "0X16cagQE-Y-"
   },
   "source": [
    "# CNN for rock-paper-scissors with Keras/TensorFlow\n",
    "\n",
    "Date: February 24, 2019\n",
    "\n",
    "Classification:\n",
    "- rock\n",
    "- paper\n",
    "- scissors"
   ]
  },
  {
   "cell_type": "markdown",
   "metadata": {
    "colab_type": "text",
    "id": "WwQ-dEltkl5Q"
   },
   "source": [
    "## Preparing data set for CNN"
   ]
  },
  {
   "cell_type": "code",
   "execution_count": 79,
   "metadata": {
    "colab": {
     "base_uri": "https://localhost:8080/",
     "height": 34
    },
    "colab_type": "code",
    "id": "VEJyQsGpV3ug",
    "outputId": "3929aa39-3383-4791-e065-3622e6781181"
   },
   "outputs": [],
   "source": [
    "DATA_FOLDER = '../python/data/'\n",
    "\n",
    "FILES = 100\n",
    "TRAINING_FILES = 70\n",
    "TEST_FILES = FILES - TRAINING_FILES"
   ]
  },
  {
   "cell_type": "code",
   "execution_count": 80,
   "metadata": {
    "colab": {},
    "colab_type": "code",
    "id": "JTNdoPBFWGky"
   },
   "outputs": [],
   "source": [
    "%matplotlib inline\n",
    "\n",
    "import matplotlib.pyplot as plt\n",
    "import numpy as np\n",
    "import time\n",
    "import random\n",
    "import os"
   ]
  },
  {
   "cell_type": "code",
   "execution_count": 81,
   "metadata": {},
   "outputs": [
    {
     "name": "stdout",
     "output_type": "stream",
     "text": [
      "0: paper\n",
      "1: rock\n",
      "2: scissors\n"
     ]
    }
   ],
   "source": [
    "import glob\n",
    "\n",
    "data_files = glob.glob(DATA_FOLDER+'*.csv')\n",
    "class_labels = []\n",
    "\n",
    "for file in data_files:\n",
    "    label = file.split('-')[0].replace('\\\\', '/').split('/')[-1]\n",
    "    if label not in class_labels:\n",
    "        class_labels.append(label)\n",
    "\n",
    "data_set = {}\n",
    "\n",
    "class_number = 0\n",
    "\n",
    "for label in class_labels:\n",
    "    files = glob.glob(DATA_FOLDER+'{}-*.csv'.format(label))\n",
    "    random.shuffle(files)\n",
    "    data_set[label] = (files[:TRAINING_FILES], files[TRAINING_FILES:FILES], class_number)\n",
    "    class_number += 1\n",
    "\n",
    "training_set = []\n",
    "test_set = []\n",
    "\n",
    "for k, v in data_set.items():\n",
    "    files = v[0]\n",
    "    class_number = v[2]\n",
    "    for file in files:\n",
    "        with open(file) as f:\n",
    "            data = np.array(f.read().split(',')).astype(float)\n",
    "            training_set.append((data/255, class_number))\n",
    "    files = v[1]\n",
    "    for file in files:\n",
    "        with open(file) as f:\n",
    "            data = np.array(f.read().split(',')).astype(float)\n",
    "            test_set.append((data/255, class_number))\n",
    "random.shuffle(training_set)\n",
    "random.shuffle(test_set)\n",
    "\n",
    "class_labels = [None for _ in range(len(data_set))]\n",
    "\n",
    "# Class number and class labels\n",
    "for k,v in data_set.items():\n",
    "    print('{}: {}'.format(v[2],k))\n",
    "    class_labels[v[2]] = k\n",
    "    \n",
    "import yaml\n",
    "with open(DATA_FOLDER+'class_labels.yaml', 'w') as f:\n",
    "    yaml.dump(class_labels, f)"
   ]
  },
  {
   "cell_type": "code",
   "execution_count": 82,
   "metadata": {
    "colab": {},
    "colab_type": "code",
    "id": "28tIKkNyW3cO"
   },
   "outputs": [
    {
     "data": {
      "text/plain": [
       "<matplotlib.image.AxesImage at 0x1a636ec8160>"
      ]
     },
     "execution_count": 82,
     "metadata": {},
     "output_type": "execute_result"
    },
    {
     "data": {
      "image/png": "[encoded data removed]",
      "text/plain": [
       "<matplotlib.figure.Figure at 0x1a636ebbfd0>"
      ]
     },
     "metadata": {},
     "output_type": "display_data"
    }
   ],
   "source": [
    "train_data, train_labels = [], []\n",
    "test_data, test_labels = [], []\n",
    "for img, label in training_set:\n",
    "    train_data.append(img)\n",
    "    train_labels.append(label)\n",
    "for img, label in test_set:\n",
    "    test_data.append(img)\n",
    "    test_labels.append(label)\n",
    "train_data = np.array(train_data).reshape((TRAINING_FILES*len(class_labels), 32, 32, 3))\n",
    "train_labels = np.array(train_labels, dtype='uint8')\n",
    "test_data = np.array(test_data).reshape((TEST_FILES*len(class_labels), 32, 32, 3))\n",
    "test_lables = np.array(test_labels, dtype='uint8')\n",
    "#train_data.shape\n",
    "\n",
    "from keras.utils import to_categorical\n",
    "\n",
    "train_labels=to_categorical(train_labels)\n",
    "test_labels=to_categorical(test_labels)\n",
    "\n",
    "plt.imshow(train_data[12,:,:,:])\n",
    "#train_data[12,:,:,0]"
   ]
  },
  {
   "cell_type": "markdown",
   "metadata": {
    "colab_type": "text",
    "id": "VfUmgxxVk6uM"
   },
   "source": [
    "### CNN model"
   ]
  },
  {
   "cell_type": "code",
   "execution_count": 105,
   "metadata": {
    "colab": {
     "base_uri": "https://localhost:8080/",
     "height": 509
    },
    "colab_type": "code",
    "id": "B2Xg6tGLdMKP",
    "outputId": "ae3daa32-9dbf-4d8b-9a11-7f596dd2e4a6"
   },
   "outputs": [
    {
     "name": "stdout",
     "output_type": "stream",
     "text": [
      "_________________________________________________________________\n",
      "Layer (type)                 Output Shape              Param #   \n",
      "=================================================================\n",
      "conv2d_21 (Conv2D)           (None, 32, 32, 16)        448       \n",
      "_________________________________________________________________\n",
      "max_pooling2d_21 (MaxPooling (None, 16, 16, 16)        0         \n",
      "_________________________________________________________________\n",
      "dropout_26 (Dropout)         (None, 16, 16, 16)        0         \n",
      "_________________________________________________________________\n",
      "conv2d_22 (Conv2D)           (None, 16, 16, 32)        4640      \n",
      "_________________________________________________________________\n",
      "max_pooling2d_22 (MaxPooling (None, 8, 8, 32)          0         \n",
      "_________________________________________________________________\n",
      "dropout_27 (Dropout)         (None, 8, 8, 32)          0         \n",
      "_________________________________________________________________\n",
      "conv2d_23 (Conv2D)           (None, 8, 8, 64)          18496     \n",
      "_________________________________________________________________\n",
      "max_pooling2d_23 (MaxPooling (None, 4, 4, 64)          0         \n",
      "_________________________________________________________________\n",
      "dropout_28 (Dropout)         (None, 4, 4, 64)          0         \n",
      "_________________________________________________________________\n",
      "flatten_9 (Flatten)          (None, 1024)              0         \n",
      "_________________________________________________________________\n",
      "dropout_29 (Dropout)         (None, 1024)              0         \n",
      "_________________________________________________________________\n",
      "dense_12 (Dense)             (None, 1024)              1049600   \n",
      "_________________________________________________________________\n",
      "dropout_30 (Dropout)         (None, 1024)              0         \n",
      "_________________________________________________________________\n",
      "dense_13 (Dense)             (None, 3)                 3075      \n",
      "=================================================================\n",
      "Total params: 1,076,259\n",
      "Trainable params: 1,076,259\n",
      "Non-trainable params: 0\n",
      "_________________________________________________________________\n"
     ]
    }
   ],
   "source": [
    "from keras import layers\n",
    "from keras import models\n",
    "\n",
    "model = models.Sequential()\n",
    "\n",
    "model.add(layers.Conv2D(16, (3, 3), padding='same', activation='relu', input_shape=(32, 32, 3)))\n",
    "model.add(layers.MaxPooling2D((2,2)))\n",
    "model.add(layers.Dropout(0.25))\n",
    "\n",
    "model.add(layers.Conv2D(32, (3, 3), padding='same', activation='relu'))\n",
    "model.add(layers.MaxPooling2D((2,2)))\n",
    "model.add(layers.Dropout(0.25))\n",
    "\n",
    "model.add(layers.Conv2D(64, (3, 3), padding='same', activation='relu'))\n",
    "model.add(layers.MaxPooling2D((2,2)))\n",
    "model.add(layers.Dropout(0.25))\n",
    "\n",
    "model.add(layers.Flatten())\n",
    "model.add(layers.Dropout(0.25))\n",
    "model.add(layers.Dense(1024, activation='relu'))\n",
    "model.add(layers.Dropout(0.25))\n",
    "model.add(layers.Dense(len(class_labels), activation='softmax'))\n",
    "\n",
    "model.summary()"
   ]
  },
  {
   "cell_type": "code",
   "execution_count": 106,
   "metadata": {
    "colab": {},
    "colab_type": "code",
    "id": "nRr1L_4ogL6i"
   },
   "outputs": [],
   "source": [
    "model.compile(optimizer='rmsprop', loss='categorical_crossentropy', metrics=['accuracy'])"
   ]
  },
  {
   "cell_type": "code",
   "execution_count": 107,
   "metadata": {},
   "outputs": [
    {
     "data": {
      "image/svg+xml": [
       "<svg height=\"1067pt\" viewBox=\"0.00 0.00 223.00 1067.00\" width=\"223pt\" xmlns=\"http://www.w3.org/2000/svg\" xmlns:xlink=\"http://www.w3.org/1999/xlink\">\n",
       "<g class=\"graph\" id=\"graph0\" transform=\"scale(1 1) rotate(0) translate(4 1063)\">\n",
       "<title>G</title>\n",
       "<polygon fill=\"white\" points=\"-4,4 -4,-1063 219,-1063 219,4 -4,4\" stroke=\"none\"/>\n",
       "<!-- 1813291552664 -->\n",
       "<g class=\"node\" id=\"node1\"><title>1813291552664</title>\n",
       "<polygon fill=\"none\" points=\"40.5,-949.5 40.5,-985.5 174.5,-985.5 174.5,-949.5 40.5,-949.5\" stroke=\"black\"/>\n",
       "<text font-family=\"Times New Roman,serif\" font-size=\"14.00\" text-anchor=\"middle\" x=\"107.5\" y=\"-963.8\">conv2d_21: Conv2D</text>\n",
       "</g>\n",
       "<!-- 1813291545656 -->\n",
       "<g class=\"node\" id=\"node2\"><title>1813291545656</title>\n",
       "<polygon fill=\"none\" points=\"0,-876.5 0,-912.5 215,-912.5 215,-876.5 0,-876.5\" stroke=\"black\"/>\n",
       "<text font-family=\"Times New Roman,serif\" font-size=\"14.00\" text-anchor=\"middle\" x=\"107.5\" y=\"-890.8\">max_pooling2d_21: MaxPooling2D</text>\n",
       "</g>\n",
       "<!-- 1813291552664&#45;&gt;1813291545656 -->\n",
       "<g class=\"edge\" id=\"edge2\"><title>1813291552664-&gt;1813291545656</title>\n",
       "<path d=\"M107.5,-949.313C107.5,-941.289 107.5,-931.547 107.5,-922.569\" fill=\"none\" stroke=\"black\"/>\n",
       "<polygon fill=\"black\" points=\"111,-922.529 107.5,-912.529 104,-922.529 111,-922.529\" stroke=\"black\"/>\n",
       "</g>\n",
       "<!-- 1813291552608 -->\n",
       "<g class=\"node\" id=\"node3\"><title>1813291552608</title>\n",
       "<polygon fill=\"none\" points=\"39,-803.5 39,-839.5 176,-839.5 176,-803.5 39,-803.5\" stroke=\"black\"/>\n",
       "<text font-family=\"Times New Roman,serif\" font-size=\"14.00\" text-anchor=\"middle\" x=\"107.5\" y=\"-817.8\">dropout_26: Dropout</text>\n",
       "</g>\n",
       "<!-- 1813291545656&#45;&gt;1813291552608 -->\n",
       "<g class=\"edge\" id=\"edge3\"><title>1813291545656-&gt;1813291552608</title>\n",
       "<path d=\"M107.5,-876.313C107.5,-868.289 107.5,-858.547 107.5,-849.569\" fill=\"none\" stroke=\"black\"/>\n",
       "<polygon fill=\"black\" points=\"111,-849.529 107.5,-839.529 104,-849.529 111,-849.529\" stroke=\"black\"/>\n",
       "</g>\n",
       "<!-- 1813291544872 -->\n",
       "<g class=\"node\" id=\"node4\"><title>1813291544872</title>\n",
       "<polygon fill=\"none\" points=\"40.5,-730.5 40.5,-766.5 174.5,-766.5 174.5,-730.5 40.5,-730.5\" stroke=\"black\"/>\n",
       "<text font-family=\"Times New Roman,serif\" font-size=\"14.00\" text-anchor=\"middle\" x=\"107.5\" y=\"-744.8\">conv2d_22: Conv2D</text>\n",
       "</g>\n",
       "<!-- 1813291552608&#45;&gt;1813291544872 -->\n",
       "<g class=\"edge\" id=\"edge4\"><title>1813291552608-&gt;1813291544872</title>\n",
       "<path d=\"M107.5,-803.313C107.5,-795.289 107.5,-785.547 107.5,-776.569\" fill=\"none\" stroke=\"black\"/>\n",
       "<polygon fill=\"black\" points=\"111,-776.529 107.5,-766.529 104,-776.529 111,-776.529\" stroke=\"black\"/>\n",
       "</g>\n",
       "<!-- 1813291592672 -->\n",
       "<g class=\"node\" id=\"node5\"><title>1813291592672</title>\n",
       "<polygon fill=\"none\" points=\"0,-657.5 0,-693.5 215,-693.5 215,-657.5 0,-657.5\" stroke=\"black\"/>\n",
       "<text font-family=\"Times New Roman,serif\" font-size=\"14.00\" text-anchor=\"middle\" x=\"107.5\" y=\"-671.8\">max_pooling2d_22: MaxPooling2D</text>\n",
       "</g>\n",
       "<!-- 1813291544872&#45;&gt;1813291592672 -->\n",
       "<g class=\"edge\" id=\"edge5\"><title>1813291544872-&gt;1813291592672</title>\n",
       "<path d=\"M107.5,-730.313C107.5,-722.289 107.5,-712.547 107.5,-703.569\" fill=\"none\" stroke=\"black\"/>\n",
       "<polygon fill=\"black\" points=\"111,-703.529 107.5,-693.529 104,-703.529 111,-703.529\" stroke=\"black\"/>\n",
       "</g>\n",
       "<!-- 1813291592224 -->\n",
       "<g class=\"node\" id=\"node6\"><title>1813291592224</title>\n",
       "<polygon fill=\"none\" points=\"39,-584.5 39,-620.5 176,-620.5 176,-584.5 39,-584.5\" stroke=\"black\"/>\n",
       "<text font-family=\"Times New Roman,serif\" font-size=\"14.00\" text-anchor=\"middle\" x=\"107.5\" y=\"-598.8\">dropout_27: Dropout</text>\n",
       "</g>\n",
       "<!-- 1813291592672&#45;&gt;1813291592224 -->\n",
       "<g class=\"edge\" id=\"edge6\"><title>1813291592672-&gt;1813291592224</title>\n",
       "<path d=\"M107.5,-657.313C107.5,-649.289 107.5,-639.547 107.5,-630.569\" fill=\"none\" stroke=\"black\"/>\n",
       "<polygon fill=\"black\" points=\"111,-630.529 107.5,-620.529 104,-630.529 111,-630.529\" stroke=\"black\"/>\n",
       "</g>\n",
       "<!-- 1813271508640 -->\n",
       "<g class=\"node\" id=\"node7\"><title>1813271508640</title>\n",
       "<polygon fill=\"none\" points=\"40.5,-511.5 40.5,-547.5 174.5,-547.5 174.5,-511.5 40.5,-511.5\" stroke=\"black\"/>\n",
       "<text font-family=\"Times New Roman,serif\" font-size=\"14.00\" text-anchor=\"middle\" x=\"107.5\" y=\"-525.8\">conv2d_23: Conv2D</text>\n",
       "</g>\n",
       "<!-- 1813291592224&#45;&gt;1813271508640 -->\n",
       "<g class=\"edge\" id=\"edge7\"><title>1813291592224-&gt;1813271508640</title>\n",
       "<path d=\"M107.5,-584.313C107.5,-576.289 107.5,-566.547 107.5,-557.569\" fill=\"none\" stroke=\"black\"/>\n",
       "<polygon fill=\"black\" points=\"111,-557.529 107.5,-547.529 104,-557.529 111,-557.529\" stroke=\"black\"/>\n",
       "</g>\n",
       "<!-- 1813311947048 -->\n",
       "<g class=\"node\" id=\"node8\"><title>1813311947048</title>\n",
       "<polygon fill=\"none\" points=\"0,-438.5 0,-474.5 215,-474.5 215,-438.5 0,-438.5\" stroke=\"black\"/>\n",
       "<text font-family=\"Times New Roman,serif\" font-size=\"14.00\" text-anchor=\"middle\" x=\"107.5\" y=\"-452.8\">max_pooling2d_23: MaxPooling2D</text>\n",
       "</g>\n",
       "<!-- 1813271508640&#45;&gt;1813311947048 -->\n",
       "<g class=\"edge\" id=\"edge8\"><title>1813271508640-&gt;1813311947048</title>\n",
       "<path d=\"M107.5,-511.313C107.5,-503.289 107.5,-493.547 107.5,-484.569\" fill=\"none\" stroke=\"black\"/>\n",
       "<polygon fill=\"black\" points=\"111,-484.529 107.5,-474.529 104,-484.529 111,-484.529\" stroke=\"black\"/>\n",
       "</g>\n",
       "<!-- 1813291553344 -->\n",
       "<g class=\"node\" id=\"node9\"><title>1813291553344</title>\n",
       "<polygon fill=\"none\" points=\"39,-365.5 39,-401.5 176,-401.5 176,-365.5 39,-365.5\" stroke=\"black\"/>\n",
       "<text font-family=\"Times New Roman,serif\" font-size=\"14.00\" text-anchor=\"middle\" x=\"107.5\" y=\"-379.8\">dropout_28: Dropout</text>\n",
       "</g>\n",
       "<!-- 1813311947048&#45;&gt;1813291553344 -->\n",
       "<g class=\"edge\" id=\"edge9\"><title>1813311947048-&gt;1813291553344</title>\n",
       "<path d=\"M107.5,-438.313C107.5,-430.289 107.5,-420.547 107.5,-411.569\" fill=\"none\" stroke=\"black\"/>\n",
       "<polygon fill=\"black\" points=\"111,-411.529 107.5,-401.529 104,-411.529 111,-411.529\" stroke=\"black\"/>\n",
       "</g>\n",
       "<!-- 1813330755032 -->\n",
       "<g class=\"node\" id=\"node10\"><title>1813330755032</title>\n",
       "<polygon fill=\"none\" points=\"53,-292.5 53,-328.5 162,-328.5 162,-292.5 53,-292.5\" stroke=\"black\"/>\n",
       "<text font-family=\"Times New Roman,serif\" font-size=\"14.00\" text-anchor=\"middle\" x=\"107.5\" y=\"-306.8\">flatten_9: Flatten</text>\n",
       "</g>\n",
       "<!-- 1813291553344&#45;&gt;1813330755032 -->\n",
       "<g class=\"edge\" id=\"edge10\"><title>1813291553344-&gt;1813330755032</title>\n",
       "<path d=\"M107.5,-365.313C107.5,-357.289 107.5,-347.547 107.5,-338.569\" fill=\"none\" stroke=\"black\"/>\n",
       "<polygon fill=\"black\" points=\"111,-338.529 107.5,-328.529 104,-338.529 111,-338.529\" stroke=\"black\"/>\n",
       "</g>\n",
       "<!-- 1813311948392 -->\n",
       "<g class=\"node\" id=\"node11\"><title>1813311948392</title>\n",
       "<polygon fill=\"none\" points=\"39,-219.5 39,-255.5 176,-255.5 176,-219.5 39,-219.5\" stroke=\"black\"/>\n",
       "<text font-family=\"Times New Roman,serif\" font-size=\"14.00\" text-anchor=\"middle\" x=\"107.5\" y=\"-233.8\">dropout_29: Dropout</text>\n",
       "</g>\n",
       "<!-- 1813330755032&#45;&gt;1813311948392 -->\n",
       "<g class=\"edge\" id=\"edge11\"><title>1813330755032-&gt;1813311948392</title>\n",
       "<path d=\"M107.5,-292.313C107.5,-284.289 107.5,-274.547 107.5,-265.569\" fill=\"none\" stroke=\"black\"/>\n",
       "<polygon fill=\"black\" points=\"111,-265.529 107.5,-255.529 104,-265.529 111,-265.529\" stroke=\"black\"/>\n",
       "</g>\n",
       "<!-- 1813332632968 -->\n",
       "<g class=\"node\" id=\"node12\"><title>1813332632968</title>\n",
       "<polygon fill=\"none\" points=\"52,-146.5 52,-182.5 163,-182.5 163,-146.5 52,-146.5\" stroke=\"black\"/>\n",
       "<text font-family=\"Times New Roman,serif\" font-size=\"14.00\" text-anchor=\"middle\" x=\"107.5\" y=\"-160.8\">dense_12: Dense</text>\n",
       "</g>\n",
       "<!-- 1813311948392&#45;&gt;1813332632968 -->\n",
       "<g class=\"edge\" id=\"edge12\"><title>1813311948392-&gt;1813332632968</title>\n",
       "<path d=\"M107.5,-219.313C107.5,-211.289 107.5,-201.547 107.5,-192.569\" fill=\"none\" stroke=\"black\"/>\n",
       "<polygon fill=\"black\" points=\"111,-192.529 107.5,-182.529 104,-192.529 111,-192.529\" stroke=\"black\"/>\n",
       "</g>\n",
       "<!-- 1813297844464 -->\n",
       "<g class=\"node\" id=\"node13\"><title>1813297844464</title>\n",
       "<polygon fill=\"none\" points=\"39,-73.5 39,-109.5 176,-109.5 176,-73.5 39,-73.5\" stroke=\"black\"/>\n",
       "<text font-family=\"Times New Roman,serif\" font-size=\"14.00\" text-anchor=\"middle\" x=\"107.5\" y=\"-87.8\">dropout_30: Dropout</text>\n",
       "</g>\n",
       "<!-- 1813332632968&#45;&gt;1813297844464 -->\n",
       "<g class=\"edge\" id=\"edge13\"><title>1813332632968-&gt;1813297844464</title>\n",
       "<path d=\"M107.5,-146.313C107.5,-138.289 107.5,-128.547 107.5,-119.569\" fill=\"none\" stroke=\"black\"/>\n",
       "<polygon fill=\"black\" points=\"111,-119.529 107.5,-109.529 104,-119.529 111,-119.529\" stroke=\"black\"/>\n",
       "</g>\n",
       "<!-- 1813297813320 -->\n",
       "<g class=\"node\" id=\"node14\"><title>1813297813320</title>\n",
       "<polygon fill=\"none\" points=\"52,-0.5 52,-36.5 163,-36.5 163,-0.5 52,-0.5\" stroke=\"black\"/>\n",
       "<text font-family=\"Times New Roman,serif\" font-size=\"14.00\" text-anchor=\"middle\" x=\"107.5\" y=\"-14.8\">dense_13: Dense</text>\n",
       "</g>\n",
       "<!-- 1813297844464&#45;&gt;1813297813320 -->\n",
       "<g class=\"edge\" id=\"edge14\"><title>1813297844464-&gt;1813297813320</title>\n",
       "<path d=\"M107.5,-73.3129C107.5,-65.2895 107.5,-55.5475 107.5,-46.5691\" fill=\"none\" stroke=\"black\"/>\n",
       "<polygon fill=\"black\" points=\"111,-46.5288 107.5,-36.5288 104,-46.5289 111,-46.5288\" stroke=\"black\"/>\n",
       "</g>\n",
       "<!-- 1813291544928 -->\n",
       "<g class=\"node\" id=\"node15\"><title>1813291544928</title>\n",
       "<polygon fill=\"none\" points=\"55.5,-1022.5 55.5,-1058.5 159.5,-1058.5 159.5,-1022.5 55.5,-1022.5\" stroke=\"black\"/>\n",
       "<text font-family=\"Times New Roman,serif\" font-size=\"14.00\" text-anchor=\"middle\" x=\"107.5\" y=\"-1036.8\">1813291544928</text>\n",
       "</g>\n",
       "<!-- 1813291544928&#45;&gt;1813291552664 -->\n",
       "<g class=\"edge\" id=\"edge1\"><title>1813291544928-&gt;1813291552664</title>\n",
       "<path d=\"M107.5,-1022.31C107.5,-1014.29 107.5,-1004.55 107.5,-995.569\" fill=\"none\" stroke=\"black\"/>\n",
       "<polygon fill=\"black\" points=\"111,-995.529 107.5,-985.529 104,-995.529 111,-995.529\" stroke=\"black\"/>\n",
       "</g>\n",
       "</g>\n",
       "</svg>"
      ],
      "text/plain": [
       "<IPython.core.display.SVG object>"
      ]
     },
     "execution_count": 107,
     "metadata": {},
     "output_type": "execute_result"
    }
   ],
   "source": [
    "from IPython.display import SVG\n",
    "from keras.utils.vis_utils import model_to_dot\n",
    "\n",
    "SVG(model_to_dot(model).create(prog='dot', format='svg'))"
   ]
  },
  {
   "cell_type": "markdown",
   "metadata": {
    "colab_type": "text",
    "id": "TfypWUJIlFkz"
   },
   "source": [
    "## Training CNN"
   ]
  },
  {
   "cell_type": "code",
   "execution_count": 108,
   "metadata": {
    "colab": {
     "base_uri": "https://localhost:8080/",
     "height": 931
    },
    "colab_type": "code",
    "id": "zsdmu-ggfvr1",
    "outputId": "77a52558-8ecc-4fc5-e0cb-2b86a75df4c6",
    "scrolled": false
   },
   "outputs": [
    {
     "name": "stdout",
     "output_type": "stream",
     "text": [
      "Train on 210 samples, validate on 90 samples\n",
      "Epoch 1/40\n",
      "210/210 [==============================] - 7s 32ms/step - loss: 1.5030 - acc: 0.3429 - val_loss: 1.0823 - val_acc: 0.4778\n",
      "Epoch 2/40\n",
      "210/210 [==============================] - 6s 31ms/step - loss: 1.0547 - acc: 0.4762 - val_loss: 1.0223 - val_acc: 0.4222\n",
      "Epoch 3/40\n",
      "210/210 [==============================] - 6s 28ms/step - loss: 0.9103 - acc: 0.5714 - val_loss: 0.9885 - val_acc: 0.4222\n",
      "Epoch 4/40\n",
      "210/210 [==============================] - 6s 29ms/step - loss: 0.9997 - acc: 0.4619 - val_loss: 1.0286 - val_acc: 0.4444\n",
      "Epoch 5/40\n",
      "210/210 [==============================] - 6s 29ms/step - loss: 0.8289 - acc: 0.5857 - val_loss: 1.0180 - val_acc: 0.4556\n",
      "Epoch 6/40\n",
      "210/210 [==============================] - 6s 29ms/step - loss: 0.7767 - acc: 0.6048 - val_loss: 0.8018 - val_acc: 0.6778\n",
      "Epoch 7/40\n",
      "210/210 [==============================] - 6s 29ms/step - loss: 0.7168 - acc: 0.6952 - val_loss: 0.9424 - val_acc: 0.5333\n",
      "Epoch 8/40\n",
      "210/210 [==============================] - 6s 28ms/step - loss: 0.6805 - acc: 0.7000 - val_loss: 0.6831 - val_acc: 0.7111\n",
      "Epoch 9/40\n",
      "210/210 [==============================] - 6s 29ms/step - loss: 0.6226 - acc: 0.7381 - val_loss: 0.7392 - val_acc: 0.6333\n",
      "Epoch 10/40\n",
      "210/210 [==============================] - 6s 29ms/step - loss: 0.6510 - acc: 0.6857 - val_loss: 0.6175 - val_acc: 0.7556\n",
      "Epoch 11/40\n",
      "210/210 [==============================] - 6s 28ms/step - loss: 0.4949 - acc: 0.8000 - val_loss: 0.5874 - val_acc: 0.7556\n",
      "Epoch 12/40\n",
      "210/210 [==============================] - 6s 28ms/step - loss: 0.5343 - acc: 0.7429 - val_loss: 0.6021 - val_acc: 0.7778\n",
      "Epoch 13/40\n",
      "210/210 [==============================] - 6s 29ms/step - loss: 0.5208 - acc: 0.7667 - val_loss: 0.5973 - val_acc: 0.7556\n",
      "Epoch 14/40\n",
      "210/210 [==============================] - 6s 30ms/step - loss: 0.5251 - acc: 0.7571 - val_loss: 0.5478 - val_acc: 0.7889\n",
      "Epoch 15/40\n",
      "210/210 [==============================] - 6s 29ms/step - loss: 0.4492 - acc: 0.8143 - val_loss: 0.6020 - val_acc: 0.7778\n",
      "Epoch 16/40\n",
      "210/210 [==============================] - 6s 30ms/step - loss: 0.3827 - acc: 0.8476 - val_loss: 0.4153 - val_acc: 0.8333\n",
      "Epoch 17/40\n",
      "210/210 [==============================] - 6s 30ms/step - loss: 0.4557 - acc: 0.7952 - val_loss: 0.4280 - val_acc: 0.8333\n",
      "Epoch 18/40\n",
      "210/210 [==============================] - 6s 29ms/step - loss: 0.3319 - acc: 0.8714 - val_loss: 0.4089 - val_acc: 0.8111\n",
      "Epoch 19/40\n",
      "210/210 [==============================] - 6s 28ms/step - loss: 0.3064 - acc: 0.8571 - val_loss: 0.4336 - val_acc: 0.8111\n",
      "Epoch 20/40\n",
      "210/210 [==============================] - 6s 28ms/step - loss: 0.2895 - acc: 0.8810 - val_loss: 0.5913 - val_acc: 0.7556\n",
      "Epoch 21/40\n",
      "210/210 [==============================] - 6s 29ms/step - loss: 0.4718 - acc: 0.7762 - val_loss: 0.4364 - val_acc: 0.8111\n",
      "Epoch 22/40\n",
      "210/210 [==============================] - 6s 29ms/step - loss: 0.3050 - acc: 0.8714 - val_loss: 0.4814 - val_acc: 0.8111\n",
      "Epoch 23/40\n",
      "210/210 [==============================] - 6s 28ms/step - loss: 0.2700 - acc: 0.8905 - val_loss: 0.4409 - val_acc: 0.7889\n",
      "Epoch 24/40\n",
      "210/210 [==============================] - 6s 30ms/step - loss: 0.3095 - acc: 0.8619 - val_loss: 0.4885 - val_acc: 0.7889\n",
      "Epoch 25/40\n",
      "210/210 [==============================] - 6s 28ms/step - loss: 0.3264 - acc: 0.8476 - val_loss: 0.5062 - val_acc: 0.8000\n",
      "Epoch 26/40\n",
      "210/210 [==============================] - 7s 31ms/step - loss: 0.2568 - acc: 0.9048 - val_loss: 0.3568 - val_acc: 0.8667\n",
      "Epoch 27/40\n",
      "210/210 [==============================] - 6s 29ms/step - loss: 0.3102 - acc: 0.8714 - val_loss: 0.3994 - val_acc: 0.8222\n",
      "Epoch 28/40\n",
      "210/210 [==============================] - 6s 29ms/step - loss: 0.2573 - acc: 0.9143 - val_loss: 0.3663 - val_acc: 0.8222\n",
      "Epoch 29/40\n",
      "210/210 [==============================] - 6s 29ms/step - loss: 0.2011 - acc: 0.9095 - val_loss: 0.3991 - val_acc: 0.8444\n",
      "Epoch 30/40\n",
      "210/210 [==============================] - 6s 29ms/step - loss: 0.3477 - acc: 0.8857 - val_loss: 0.4061 - val_acc: 0.8000\n",
      "Epoch 31/40\n",
      "210/210 [==============================] - 6s 29ms/step - loss: 0.1999 - acc: 0.9286 - val_loss: 0.2822 - val_acc: 0.9222\n",
      "Epoch 32/40\n",
      "210/210 [==============================] - 6s 30ms/step - loss: 0.1616 - acc: 0.9476 - val_loss: 0.2524 - val_acc: 0.9222\n",
      "Epoch 33/40\n",
      "210/210 [==============================] - 6s 30ms/step - loss: 0.2962 - acc: 0.8905 - val_loss: 0.2565 - val_acc: 0.9333\n",
      "Epoch 34/40\n",
      "210/210 [==============================] - 6s 28ms/step - loss: 0.2050 - acc: 0.9048 - val_loss: 0.2912 - val_acc: 0.8556\n",
      "Epoch 35/40\n",
      "210/210 [==============================] - 6s 29ms/step - loss: 0.1433 - acc: 0.9381 - val_loss: 0.3952 - val_acc: 0.8111\n",
      "Epoch 36/40\n",
      "210/210 [==============================] - 6s 30ms/step - loss: 0.2420 - acc: 0.8952 - val_loss: 0.2906 - val_acc: 0.8889\n",
      "Epoch 37/40\n",
      "210/210 [==============================] - 6s 29ms/step - loss: 0.1628 - acc: 0.9333 - val_loss: 0.1992 - val_acc: 0.9333\n",
      "Epoch 38/40\n",
      "210/210 [==============================] - 6s 29ms/step - loss: 0.2763 - acc: 0.8905 - val_loss: 0.3480 - val_acc: 0.8667\n",
      "Epoch 39/40\n",
      "210/210 [==============================] - 6s 29ms/step - loss: 0.3027 - acc: 0.8762 - val_loss: 0.2609 - val_acc: 0.9111\n",
      "Epoch 40/40\n",
      "210/210 [==============================] - 6s 30ms/step - loss: 0.1477 - acc: 0.9381 - val_loss: 0.1683 - val_acc: 0.9444\n"
     ]
    }
   ],
   "source": [
    "EPOCHS = 40\n",
    "history = model.fit(train_data, train_labels, epochs=EPOCHS, validation_data=(test_data, test_labels))"
   ]
  },
  {
   "cell_type": "code",
   "execution_count": 109,
   "metadata": {},
   "outputs": [
    {
     "name": "stdout",
     "output_type": "stream",
     "text": [
      "dict_keys(['val_loss', 'val_acc', 'loss', 'acc'])\n"
     ]
    },
    {
     "data": {
      "image/png": "[encoded data removed]",
      "text/plain": [
       "<matplotlib.figure.Figure at 0x1a63a639fd0>"
      ]
     },
     "metadata": {},
     "output_type": "display_data"
    },
    {
     "data": {
      "image/png": "[encoded data removed]",
      "text/plain": [
       "<matplotlib.figure.Figure at 0x1a63a62e8d0>"
      ]
     },
     "metadata": {},
     "output_type": "display_data"
    }
   ],
   "source": [
    "print(history.history.keys())\n",
    "\n",
    "# Plot training & validation accuracy values\n",
    "plt.plot(history.history['acc'])\n",
    "plt.plot(history.history['val_acc'])\n",
    "\n",
    "plt.title('Model accuracy')\n",
    "plt.ylabel('Accuracy')\n",
    "plt.xlabel('Epoch')\n",
    "plt.legend(['Train', 'Test'], loc='upper left')\n",
    "plt.show()\n",
    "\n",
    "# Plot training & validation loss values\n",
    "plt.plot(history.history['loss'])\n",
    "plt.plot(history.history['val_loss'])\n",
    "plt.title('Model loss')\n",
    "plt.ylabel('Loss')\n",
    "plt.xlabel('Epoch')\n",
    "plt.legend(['Train', 'Test'], loc='upper left')\n",
    "plt.show()"
   ]
  },
  {
   "cell_type": "markdown",
   "metadata": {},
   "source": [
    "## Save the model"
   ]
  },
  {
   "cell_type": "code",
   "execution_count": 110,
   "metadata": {},
   "outputs": [],
   "source": [
    "import datetime\n",
    "\n",
    "dt = datetime.datetime.today().strftime('%Y%m%d%H%M%S')\n",
    "filename = 'rock_paper_scissors_cnn_{}.h5'.format(dt)\n",
    "model.save(filename)"
   ]
  },
  {
   "cell_type": "markdown",
   "metadata": {},
   "source": [
    "## Load the model"
   ]
  },
  {
   "cell_type": "code",
   "execution_count": 111,
   "metadata": {},
   "outputs": [],
   "source": [
    "del model\n",
    "model = models.load_model(filename)"
   ]
  },
  {
   "cell_type": "markdown",
   "metadata": {
    "colab_type": "text",
    "id": "j6con4C3lKC1"
   },
   "source": [
    "## Confirmation"
   ]
  },
  {
   "cell_type": "code",
   "execution_count": 112,
   "metadata": {
    "colab": {
     "base_uri": "https://localhost:8080/",
     "height": 34
    },
    "colab_type": "code",
    "id": "4oZYLLij69wU",
    "outputId": "b37a4b8a-2c80-411f-d8a9-5df1c6dbfe22"
   },
   "outputs": [
    {
     "data": {
      "text/plain": [
       "(210, 32, 32, 3)"
      ]
     },
     "execution_count": 112,
     "metadata": {},
     "output_type": "execute_result"
    }
   ],
   "source": [
    "import numpy as np\n",
    "import matplotlib.pyplot as plt\n",
    "train_data.shape"
   ]
  },
  {
   "cell_type": "code",
   "execution_count": 113,
   "metadata": {
    "colab": {
     "base_uri": "https://localhost:8080/",
     "height": 193
    },
    "colab_type": "code",
    "id": "zSxXE9FgRBdJ",
    "outputId": "f3a53efe-e99f-4572-f9b4-1bf3c39c77ec"
   },
   "outputs": [],
   "source": [
    "layer_outputs = [layer.output for layer in model.layers]\n",
    "#layer_outputs"
   ]
  },
  {
   "cell_type": "code",
   "execution_count": 114,
   "metadata": {
    "colab": {
     "base_uri": "https://localhost:8080/",
     "height": 34
    },
    "colab_type": "code",
    "id": "dcw7yHKrRkPD",
    "outputId": "a3ed5441-ae48-4635-bf07-ac5060030608"
   },
   "outputs": [],
   "source": [
    "activation_model = models.Model(inputs=model.input, outputs=layer_outputs)\n",
    "activations = activation_model.predict(test_data)\n",
    "#activations[0][0,:,:,0].shape"
   ]
  },
  {
   "cell_type": "code",
   "execution_count": 115,
   "metadata": {},
   "outputs": [
    {
     "data": {
      "text/plain": [
       "['paper', 'rock', 'scissors']"
      ]
     },
     "execution_count": 115,
     "metadata": {},
     "output_type": "execute_result"
    }
   ],
   "source": [
    "class_labels"
   ]
  },
  {
   "cell_type": "code",
   "execution_count": 116,
   "metadata": {
    "colab": {
     "base_uri": "https://localhost:8080/",
     "height": 193
    },
    "colab_type": "code",
    "id": "ccSNAwGKhRn9",
    "outputId": "0ad22e12-713b-4b07-e17b-45d39ff1b80b"
   },
   "outputs": [
    {
     "data": {
      "text/plain": [
       "array([[14, 63, 22],\n",
       "       [ 0,  0, 99],\n",
       "       [ 0,  0, 99],\n",
       "       [99,  0,  0],\n",
       "       [ 0,  0, 99],\n",
       "       [92,  6,  0],\n",
       "       [ 0,  0, 99],\n",
       "       [99,  0,  0],\n",
       "       [ 0,  3, 96],\n",
       "       [ 5, 93,  0]])"
      ]
     },
     "execution_count": 116,
     "metadata": {},
     "output_type": "execute_result"
    }
   ],
   "source": [
    "(activations[-1][:10]*100).astype(int)"
   ]
  },
  {
   "cell_type": "code",
   "execution_count": 117,
   "metadata": {
    "colab": {
     "base_uri": "https://localhost:8080/",
     "height": 193
    },
    "colab_type": "code",
    "id": "RoE0nxtuiGIN",
    "outputId": "154437a8-ab72-46f4-f42c-3e6464af47d0"
   },
   "outputs": [
    {
     "data": {
      "text/plain": [
       "array([[0, 1, 0],\n",
       "       [0, 0, 1],\n",
       "       [0, 0, 1],\n",
       "       [1, 0, 0],\n",
       "       [0, 0, 1],\n",
       "       [1, 0, 0],\n",
       "       [0, 0, 1],\n",
       "       [1, 0, 0],\n",
       "       [0, 0, 1],\n",
       "       [0, 1, 0]])"
      ]
     },
     "execution_count": 117,
     "metadata": {},
     "output_type": "execute_result"
    }
   ],
   "source": [
    "test_labels[:10].astype(int)"
   ]
  },
  {
   "cell_type": "code",
   "execution_count": 118,
   "metadata": {},
   "outputs": [],
   "source": [
    "def plot_layer(activations, sample, layer):\n",
    "    a = activations[layer].shape\n",
    "    rows = int(a[3]/4)\n",
    "    fig, axarr = plt.subplots(rows, 4, figsize=[20,15])\n",
    "    for i in range(a[3]):\n",
    "        row = int(i/4)\n",
    "        x, y = row, i-4*row\n",
    "        axarr[x, y].imshow(activations[layer][sample, :, :, i])\n",
    "        axarr[x, y].set_xticks([])\n",
    "        axarr[x, y].set_yticks([])"
   ]
  },
  {
   "cell_type": "code",
   "execution_count": 119,
   "metadata": {},
   "outputs": [
    {
     "data": {
      "text/plain": [
       "'paper'"
      ]
     },
     "execution_count": 119,
     "metadata": {},
     "output_type": "execute_result"
    },
    {
     "data": {
      "image/png": "[encoded data removed]",
      "text/plain": [
       "<matplotlib.figure.Figure at 0x1a63fc59390>"
      ]
     },
     "metadata": {},
     "output_type": "display_data"
    }
   ],
   "source": [
    "image_number = 10\n",
    "\n",
    "plt.imshow(test_data[image_number,:,:,:])\n",
    "class_labels[np.argmax(test_labels[image_number])]"
   ]
  },
  {
   "cell_type": "code",
   "execution_count": 124,
   "metadata": {},
   "outputs": [
    {
     "data": {
      "image/png": "[encoded data removed]",
      "text/plain": [
       "<matplotlib.figure.Figure at 0x1a641b500b8>"
      ]
     },
     "metadata": {},
     "output_type": "display_data"
    }
   ],
   "source": [
    "plot_layer(activations, image_number, 3)"
   ]
  },
  {
   "cell_type": "code",
   "execution_count": 123,
   "metadata": {},
   "outputs": [
    {
     "data": {
      "image/png": "[encoded data removed]",
      "text/plain": [
       "<matplotlib.figure.Figure at 0x1a63fe3ee10>"
      ]
     },
     "metadata": {},
     "output_type": "display_data"
    }
   ],
   "source": [
    "plot_layer(activations, image_number, 5)"
   ]
  },
  {
   "cell_type": "code",
   "execution_count": null,
   "metadata": {},
   "outputs": [],
   "source": []
  }
 ],
 "metadata": {
  "colab": {
   "collapsed_sections": [],
   "name": "CNN for AED",
   "provenance": [],
   "version": "0.3.2"
  },
  "kernelspec": {
   "display_name": "Python 3",
   "language": "python",
   "name": "python3"
  },
  "language_info": {
   "codemirror_mode": {
    "name": "ipython",
    "version": 3
   },
   "file_extension": ".py",
   "mimetype": "text/x-python",
   "name": "python",
   "nbconvert_exporter": "python",
   "pygments_lexer": "ipython3",
   "version": "3.6.4"
  }
 },
 "nbformat": 4,
 "nbformat_minor": 1
}
